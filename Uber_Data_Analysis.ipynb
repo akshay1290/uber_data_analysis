{
 "cells": [
  {
   "cell_type": "markdown",
   "metadata": {
    "id": "xypdF9SidM1M"
   },
   "source": [
    "# Uber Data Analysis\n",
    "-----------------------------------------------------------------\n",
    "\n",
    "- Defining the problem statement\n",
    "\n",
    "\n",
    "- Collecting the data\n",
    "    * Kaggle\n",
    "    \n",
    "    \n",
    "- Exploratory data analysis\n",
    "\n",
    "\n",
    "- Feature engineering\n",
    "\n",
    "\n",
    "- Modelling\n",
    "\n",
    "\n",
    "- Testing"
   ]
  },
  {
   "cell_type": "markdown",
   "metadata": {
    "id": "ffa4DvAodM1N"
   },
   "source": [
    "## 1. Defining the problem statement\n",
    "____________________________________________________\n",
    "\n",
    "In this project, we study the data of Uber which is present in tabular format in which we use different libraries like numpy, pandas and matplotlib and different machine learning algorithms. \n",
    "\n",
    "We study different columns of the table and try to co-relate them with others and find a relation between those two. \n",
    "\n",
    "We try to find and analyze those key factors like date, month etc which helps Uber Company to enhance their business by focusing on those services and make required changes. "
   ]
  },
  {
   "cell_type": "code",
   "execution_count": 52,
   "metadata": {},
   "outputs": [
    {
     "data": {
      "text/html": [
       "<img src=\"Uber_image.jpg\"/>"
      ],
      "text/plain": [
       "<IPython.core.display.Image object>"
      ]
     },
     "execution_count": 52,
     "metadata": {},
     "output_type": "execute_result"
    }
   ],
   "source": [
    "from IPython.display import Image\n",
    "Image(url= \"Uber_image.jpg\")"
   ]
  },
  {
   "cell_type": "markdown",
   "metadata": {
    "id": "kf3pyArFdM1N"
   },
   "source": [
    "## 2. Collecting the data\n",
    "___________________________________"
   ]
  },
  {
   "cell_type": "code",
   "execution_count": 327,
   "metadata": {
    "id": "spWe8wX-dM1O"
   },
   "outputs": [],
   "source": [
    "import pandas as pd\n",
    "\n",
    "uber_dataset = pd.read_csv(r\"D:\\HP\\Uber-Data-Analysis-main\\data34.csv\")"
   ]
  },
  {
   "cell_type": "markdown",
   "metadata": {
    "id": "N-viUF78dM1P"
   },
   "source": [
    "## 3. Exploratory data analysis\n",
    "__________________________________________________\n",
    "\n",
    "Exploratory Data Analysis refers to the critical process of performing initial investigations on data so as to discover patterns,to spot anomalies,to test hypothesis and to check assumptions with the help of summary statistics and graphical representations.\n",
    "\n",
    "It is a good practice to understand the data first and try to gather as many insights from it.\n",
    "\n",
    "EDA is all about making sense of data in hand.\n"
   ]
  },
  {
   "cell_type": "code",
   "execution_count": 328,
   "metadata": {
    "colab": {
     "base_uri": "https://localhost:8080/",
     "height": 450
    },
    "id": "CiH0o0t3dM1P",
    "outputId": "ad22cc1e-e136-4ec1-8a7f-ba83c7e801a8"
   },
   "outputs": [
    {
     "data": {
      "text/html": [
       "<div>\n",
       "<style scoped>\n",
       "    .dataframe tbody tr th:only-of-type {\n",
       "        vertical-align: middle;\n",
       "    }\n",
       "\n",
       "    .dataframe tbody tr th {\n",
       "        vertical-align: top;\n",
       "    }\n",
       "\n",
       "    .dataframe thead th {\n",
       "        text-align: right;\n",
       "    }\n",
       "</style>\n",
       "<table border=\"1\" class=\"dataframe\">\n",
       "  <thead>\n",
       "    <tr style=\"text-align: right;\">\n",
       "      <th></th>\n",
       "      <th>Unnamed: 0</th>\n",
       "      <th>id</th>\n",
       "      <th>timestamp</th>\n",
       "      <th>hour</th>\n",
       "      <th>day</th>\n",
       "      <th>month</th>\n",
       "      <th>datetime</th>\n",
       "      <th>timezone</th>\n",
       "      <th>source</th>\n",
       "      <th>destination</th>\n",
       "      <th>...</th>\n",
       "      <th>precipIntensityMax</th>\n",
       "      <th>uvIndexTime</th>\n",
       "      <th>temperatureMin</th>\n",
       "      <th>temperatureMinTime</th>\n",
       "      <th>temperatureMax</th>\n",
       "      <th>temperatureMaxTime</th>\n",
       "      <th>apparentTemperatureMin</th>\n",
       "      <th>apparentTemperatureMinTime</th>\n",
       "      <th>apparentTemperatureMax</th>\n",
       "      <th>apparentTemperatureMaxTime</th>\n",
       "    </tr>\n",
       "  </thead>\n",
       "  <tbody>\n",
       "    <tr>\n",
       "      <th>0</th>\n",
       "      <td>0</td>\n",
       "      <td>424553bb-7174-41ea-aeb4-fe06d4f4b9d7</td>\n",
       "      <td>1.544953e+09</td>\n",
       "      <td>9</td>\n",
       "      <td>16</td>\n",
       "      <td>12</td>\n",
       "      <td>2018-12-16 09:30:07</td>\n",
       "      <td>America/New_York</td>\n",
       "      <td>Haymarket Square</td>\n",
       "      <td>North Station</td>\n",
       "      <td>...</td>\n",
       "      <td>0.1276</td>\n",
       "      <td>1544979600</td>\n",
       "      <td>39.89</td>\n",
       "      <td>1545012000</td>\n",
       "      <td>43.68</td>\n",
       "      <td>1544968800</td>\n",
       "      <td>33.73</td>\n",
       "      <td>1545012000</td>\n",
       "      <td>38.07</td>\n",
       "      <td>1544958000</td>\n",
       "    </tr>\n",
       "    <tr>\n",
       "      <th>1</th>\n",
       "      <td>1</td>\n",
       "      <td>4bd23055-6827-41c6-b23b-3c491f24e74d</td>\n",
       "      <td>1.543284e+09</td>\n",
       "      <td>2</td>\n",
       "      <td>27</td>\n",
       "      <td>11</td>\n",
       "      <td>2018-11-27 02:00:23</td>\n",
       "      <td>America/New_York</td>\n",
       "      <td>Haymarket Square</td>\n",
       "      <td>North Station</td>\n",
       "      <td>...</td>\n",
       "      <td>0.1300</td>\n",
       "      <td>1543251600</td>\n",
       "      <td>40.49</td>\n",
       "      <td>1543233600</td>\n",
       "      <td>47.30</td>\n",
       "      <td>1543251600</td>\n",
       "      <td>36.20</td>\n",
       "      <td>1543291200</td>\n",
       "      <td>43.92</td>\n",
       "      <td>1543251600</td>\n",
       "    </tr>\n",
       "    <tr>\n",
       "      <th>2</th>\n",
       "      <td>8</td>\n",
       "      <td>4f9fee41-fde3-4767-bbf1-a00e108701fb</td>\n",
       "      <td>1.543818e+09</td>\n",
       "      <td>6</td>\n",
       "      <td>3</td>\n",
       "      <td>12</td>\n",
       "      <td>2018-12-03 06:28:02</td>\n",
       "      <td>America/New_York</td>\n",
       "      <td>Back Bay</td>\n",
       "      <td>Northeastern University</td>\n",
       "      <td>...</td>\n",
       "      <td>0.0004</td>\n",
       "      <td>1543852800</td>\n",
       "      <td>43.09</td>\n",
       "      <td>1543896000</td>\n",
       "      <td>57.02</td>\n",
       "      <td>1543852800</td>\n",
       "      <td>39.90</td>\n",
       "      <td>1543896000</td>\n",
       "      <td>56.35</td>\n",
       "      <td>1543852800</td>\n",
       "    </tr>\n",
       "    <tr>\n",
       "      <th>3</th>\n",
       "      <td>10</td>\n",
       "      <td>9043bf77-1d45-4a93-9520-a083e0277f16</td>\n",
       "      <td>1.543594e+09</td>\n",
       "      <td>16</td>\n",
       "      <td>30</td>\n",
       "      <td>11</td>\n",
       "      <td>2018-11-30 16:13:03</td>\n",
       "      <td>America/New_York</td>\n",
       "      <td>Back Bay</td>\n",
       "      <td>Northeastern University</td>\n",
       "      <td>...</td>\n",
       "      <td>0.0004</td>\n",
       "      <td>1543593600</td>\n",
       "      <td>28.64</td>\n",
       "      <td>1543579200</td>\n",
       "      <td>42.32</td>\n",
       "      <td>1543600800</td>\n",
       "      <td>29.29</td>\n",
       "      <td>1543579200</td>\n",
       "      <td>40.48</td>\n",
       "      <td>1543611600</td>\n",
       "    </tr>\n",
       "    <tr>\n",
       "      <th>4</th>\n",
       "      <td>14</td>\n",
       "      <td>357559cb-8c58-4278-a41a-e33b2e0997a3</td>\n",
       "      <td>1.544729e+09</td>\n",
       "      <td>19</td>\n",
       "      <td>13</td>\n",
       "      <td>12</td>\n",
       "      <td>2018-12-13 19:15:03</td>\n",
       "      <td>America/New_York</td>\n",
       "      <td>North End</td>\n",
       "      <td>West End</td>\n",
       "      <td>...</td>\n",
       "      <td>0.0001</td>\n",
       "      <td>1544716800</td>\n",
       "      <td>18.29</td>\n",
       "      <td>1544688000</td>\n",
       "      <td>33.83</td>\n",
       "      <td>1544731200</td>\n",
       "      <td>13.79</td>\n",
       "      <td>1544688000</td>\n",
       "      <td>32.85</td>\n",
       "      <td>1544734800</td>\n",
       "    </tr>\n",
       "  </tbody>\n",
       "</table>\n",
       "<p>5 rows × 58 columns</p>\n",
       "</div>"
      ],
      "text/plain": [
       "   Unnamed: 0                                    id     timestamp  hour  day  \\\n",
       "0           0  424553bb-7174-41ea-aeb4-fe06d4f4b9d7  1.544953e+09     9   16   \n",
       "1           1  4bd23055-6827-41c6-b23b-3c491f24e74d  1.543284e+09     2   27   \n",
       "2           8  4f9fee41-fde3-4767-bbf1-a00e108701fb  1.543818e+09     6    3   \n",
       "3          10  9043bf77-1d45-4a93-9520-a083e0277f16  1.543594e+09    16   30   \n",
       "4          14  357559cb-8c58-4278-a41a-e33b2e0997a3  1.544729e+09    19   13   \n",
       "\n",
       "   month             datetime          timezone            source  \\\n",
       "0     12  2018-12-16 09:30:07  America/New_York  Haymarket Square   \n",
       "1     11  2018-11-27 02:00:23  America/New_York  Haymarket Square   \n",
       "2     12  2018-12-03 06:28:02  America/New_York          Back Bay   \n",
       "3     11  2018-11-30 16:13:03  America/New_York          Back Bay   \n",
       "4     12  2018-12-13 19:15:03  America/New_York         North End   \n",
       "\n",
       "               destination  ... precipIntensityMax uvIndexTime temperatureMin  \\\n",
       "0            North Station  ...             0.1276  1544979600          39.89   \n",
       "1            North Station  ...             0.1300  1543251600          40.49   \n",
       "2  Northeastern University  ...             0.0004  1543852800          43.09   \n",
       "3  Northeastern University  ...             0.0004  1543593600          28.64   \n",
       "4                 West End  ...             0.0001  1544716800          18.29   \n",
       "\n",
       "   temperatureMinTime  temperatureMax  temperatureMaxTime  \\\n",
       "0          1545012000           43.68          1544968800   \n",
       "1          1543233600           47.30          1543251600   \n",
       "2          1543896000           57.02          1543852800   \n",
       "3          1543579200           42.32          1543600800   \n",
       "4          1544688000           33.83          1544731200   \n",
       "\n",
       "   apparentTemperatureMin  apparentTemperatureMinTime  apparentTemperatureMax  \\\n",
       "0                   33.73                  1545012000                   38.07   \n",
       "1                   36.20                  1543291200                   43.92   \n",
       "2                   39.90                  1543896000                   56.35   \n",
       "3                   29.29                  1543579200                   40.48   \n",
       "4                   13.79                  1544688000                   32.85   \n",
       "\n",
       "   apparentTemperatureMaxTime  \n",
       "0                  1544958000  \n",
       "1                  1543251600  \n",
       "2                  1543852800  \n",
       "3                  1543611600  \n",
       "4                  1544734800  \n",
       "\n",
       "[5 rows x 58 columns]"
      ]
     },
     "execution_count": 328,
     "metadata": {},
     "output_type": "execute_result"
    }
   ],
   "source": [
    "uber_dataset.head()"
   ]
  },
  {
   "cell_type": "code",
   "execution_count": 329,
   "metadata": {
    "colab": {
     "base_uri": "https://localhost:8080/"
    },
    "id": "XdZMx0oAdM1U",
    "outputId": "d17c8220-dbf1-4f43-f3c4-9b85353081e6"
   },
   "outputs": [
    {
     "data": {
      "text/plain": [
       "(322844, 58)"
      ]
     },
     "execution_count": 329,
     "metadata": {},
     "output_type": "execute_result"
    }
   ],
   "source": [
    "uber_dataset.shape"
   ]
  },
  {
   "cell_type": "code",
   "execution_count": 330,
   "metadata": {
    "colab": {
     "base_uri": "https://localhost:8080/"
    },
    "id": "X5IjbtnkdM1V",
    "outputId": "5052b360-dc4e-4d4d-84df-9c4a8fc2a7e1"
   },
   "outputs": [
    {
     "name": "stdout",
     "output_type": "stream",
     "text": [
      "<class 'pandas.core.frame.DataFrame'>\n",
      "RangeIndex: 322844 entries, 0 to 322843\n",
      "Data columns (total 58 columns):\n",
      " #   Column                       Non-Null Count   Dtype  \n",
      "---  ------                       --------------   -----  \n",
      " 0   Unnamed: 0                   322844 non-null  int64  \n",
      " 1   id                           322844 non-null  object \n",
      " 2   timestamp                    322844 non-null  float64\n",
      " 3   hour                         322844 non-null  int64  \n",
      " 4   day                          322844 non-null  int64  \n",
      " 5   month                        322844 non-null  int64  \n",
      " 6   datetime                     322844 non-null  object \n",
      " 7   timezone                     322844 non-null  object \n",
      " 8   source                       322844 non-null  object \n",
      " 9   destination                  322844 non-null  object \n",
      " 10  cab_type                     322844 non-null  object \n",
      " 11  product_id                   322844 non-null  object \n",
      " 12  name                         322844 non-null  object \n",
      " 13  price                        267749 non-null  float64\n",
      " 14  distance                     322844 non-null  float64\n",
      " 15  surge_multiplier             322844 non-null  float64\n",
      " 16  latitude                     322844 non-null  float64\n",
      " 17  longitude                    322844 non-null  float64\n",
      " 18  temperature                  322844 non-null  float64\n",
      " 19  apparentTemperature          322844 non-null  float64\n",
      " 20  short_summary                322844 non-null  object \n",
      " 21  long_summary                 322844 non-null  object \n",
      " 22  precipIntensity              322844 non-null  float64\n",
      " 23  precipProbability            322844 non-null  float64\n",
      " 24  humidity                     322844 non-null  float64\n",
      " 25  windSpeed                    322844 non-null  float64\n",
      " 26  windGust                     322844 non-null  float64\n",
      " 27  windGustTime                 322844 non-null  int64  \n",
      " 28  visibility                   322844 non-null  float64\n",
      " 29  temperatureHigh              322844 non-null  float64\n",
      " 30  temperatureHighTime          322844 non-null  int64  \n",
      " 31  temperatureLow               322844 non-null  float64\n",
      " 32  temperatureLowTime           322844 non-null  int64  \n",
      " 33  apparentTemperatureHigh      322844 non-null  float64\n",
      " 34  apparentTemperatureHighTime  322844 non-null  int64  \n",
      " 35  apparentTemperatureLow       322844 non-null  float64\n",
      " 36  apparentTemperatureLowTime   322844 non-null  int64  \n",
      " 37  icon                         322844 non-null  object \n",
      " 38  dewPoint                     322844 non-null  float64\n",
      " 39  pressure                     322844 non-null  float64\n",
      " 40  windBearing                  322844 non-null  int64  \n",
      " 41  cloudCover                   322844 non-null  float64\n",
      " 42  uvIndex                      322844 non-null  int64  \n",
      " 43  visibility.1                 322844 non-null  float64\n",
      " 44  ozone                        322844 non-null  float64\n",
      " 45  sunriseTime                  322844 non-null  int64  \n",
      " 46  sunsetTime                   322844 non-null  int64  \n",
      " 47  moonPhase                    322844 non-null  float64\n",
      " 48  precipIntensityMax           322844 non-null  float64\n",
      " 49  uvIndexTime                  322844 non-null  int64  \n",
      " 50  temperatureMin               322844 non-null  float64\n",
      " 51  temperatureMinTime           322844 non-null  int64  \n",
      " 52  temperatureMax               322844 non-null  float64\n",
      " 53  temperatureMaxTime           322844 non-null  int64  \n",
      " 54  apparentTemperatureMin       322844 non-null  float64\n",
      " 55  apparentTemperatureMinTime   322844 non-null  int64  \n",
      " 56  apparentTemperatureMax       322844 non-null  float64\n",
      " 57  apparentTemperatureMaxTime   322844 non-null  int64  \n",
      "dtypes: float64(29), int64(18), object(11)\n",
      "memory usage: 142.9+ MB\n"
     ]
    }
   ],
   "source": [
    "uber_dataset.info()"
   ]
  },
  {
   "cell_type": "code",
   "execution_count": 331,
   "metadata": {
    "colab": {
     "base_uri": "https://localhost:8080/",
     "height": 304
    },
    "id": "-C2M6UZkdM1W",
    "outputId": "8761f1bc-4371-4ae6-9cd5-43188090cd78"
   },
   "outputs": [
    {
     "data": {
      "text/html": [
       "<div>\n",
       "<style scoped>\n",
       "    .dataframe tbody tr th:only-of-type {\n",
       "        vertical-align: middle;\n",
       "    }\n",
       "\n",
       "    .dataframe tbody tr th {\n",
       "        vertical-align: top;\n",
       "    }\n",
       "\n",
       "    .dataframe thead th {\n",
       "        text-align: right;\n",
       "    }\n",
       "</style>\n",
       "<table border=\"1\" class=\"dataframe\">\n",
       "  <thead>\n",
       "    <tr style=\"text-align: right;\">\n",
       "      <th></th>\n",
       "      <th>Unnamed: 0</th>\n",
       "      <th>timestamp</th>\n",
       "      <th>hour</th>\n",
       "      <th>day</th>\n",
       "      <th>month</th>\n",
       "      <th>price</th>\n",
       "      <th>distance</th>\n",
       "      <th>surge_multiplier</th>\n",
       "      <th>latitude</th>\n",
       "      <th>longitude</th>\n",
       "      <th>...</th>\n",
       "      <th>precipIntensityMax</th>\n",
       "      <th>uvIndexTime</th>\n",
       "      <th>temperatureMin</th>\n",
       "      <th>temperatureMinTime</th>\n",
       "      <th>temperatureMax</th>\n",
       "      <th>temperatureMaxTime</th>\n",
       "      <th>apparentTemperatureMin</th>\n",
       "      <th>apparentTemperatureMinTime</th>\n",
       "      <th>apparentTemperatureMax</th>\n",
       "      <th>apparentTemperatureMaxTime</th>\n",
       "    </tr>\n",
       "  </thead>\n",
       "  <tbody>\n",
       "    <tr>\n",
       "      <th>count</th>\n",
       "      <td>322844.000000</td>\n",
       "      <td>3.228440e+05</td>\n",
       "      <td>322844.000000</td>\n",
       "      <td>322844.000000</td>\n",
       "      <td>322844.000000</td>\n",
       "      <td>267749.000000</td>\n",
       "      <td>322844.000000</td>\n",
       "      <td>322844.000000</td>\n",
       "      <td>322844.000000</td>\n",
       "      <td>322844.000000</td>\n",
       "      <td>...</td>\n",
       "      <td>322844.000000</td>\n",
       "      <td>3.228440e+05</td>\n",
       "      <td>322844.000000</td>\n",
       "      <td>3.228440e+05</td>\n",
       "      <td>322844.000000</td>\n",
       "      <td>3.228440e+05</td>\n",
       "      <td>322844.000000</td>\n",
       "      <td>3.228440e+05</td>\n",
       "      <td>322844.000000</td>\n",
       "      <td>3.228440e+05</td>\n",
       "    </tr>\n",
       "    <tr>\n",
       "      <th>mean</th>\n",
       "      <td>346778.946299</td>\n",
       "      <td>1.544047e+09</td>\n",
       "      <td>11.611986</td>\n",
       "      <td>17.793380</td>\n",
       "      <td>11.587045</td>\n",
       "      <td>14.596878</td>\n",
       "      <td>2.189991</td>\n",
       "      <td>1.005900</td>\n",
       "      <td>42.338073</td>\n",
       "      <td>-71.066162</td>\n",
       "      <td>...</td>\n",
       "      <td>0.037368</td>\n",
       "      <td>1.544045e+09</td>\n",
       "      <td>33.458969</td>\n",
       "      <td>1.544042e+09</td>\n",
       "      <td>45.263932</td>\n",
       "      <td>1.544048e+09</td>\n",
       "      <td>29.730870</td>\n",
       "      <td>1.544049e+09</td>\n",
       "      <td>41.997339</td>\n",
       "      <td>1.544049e+09</td>\n",
       "    </tr>\n",
       "    <tr>\n",
       "      <th>std</th>\n",
       "      <td>200151.866895</td>\n",
       "      <td>6.893543e+05</td>\n",
       "      <td>6.945794</td>\n",
       "      <td>9.977869</td>\n",
       "      <td>0.492366</td>\n",
       "      <td>9.573120</td>\n",
       "      <td>1.150471</td>\n",
       "      <td>0.059262</td>\n",
       "      <td>0.047918</td>\n",
       "      <td>0.020321</td>\n",
       "      <td>...</td>\n",
       "      <td>0.055194</td>\n",
       "      <td>6.913761e+05</td>\n",
       "      <td>6.468837</td>\n",
       "      <td>6.903767e+05</td>\n",
       "      <td>5.647543</td>\n",
       "      <td>6.903028e+05</td>\n",
       "      <td>7.113967</td>\n",
       "      <td>6.873598e+05</td>\n",
       "      <td>6.941223</td>\n",
       "      <td>6.912309e+05</td>\n",
       "    </tr>\n",
       "    <tr>\n",
       "      <th>min</th>\n",
       "      <td>0.000000</td>\n",
       "      <td>1.543204e+09</td>\n",
       "      <td>0.000000</td>\n",
       "      <td>1.000000</td>\n",
       "      <td>11.000000</td>\n",
       "      <td>2.500000</td>\n",
       "      <td>0.020000</td>\n",
       "      <td>1.000000</td>\n",
       "      <td>42.214800</td>\n",
       "      <td>-71.105400</td>\n",
       "      <td>...</td>\n",
       "      <td>0.000000</td>\n",
       "      <td>1.543162e+09</td>\n",
       "      <td>15.630000</td>\n",
       "      <td>1.543122e+09</td>\n",
       "      <td>33.510000</td>\n",
       "      <td>1.543154e+09</td>\n",
       "      <td>11.810000</td>\n",
       "      <td>1.543136e+09</td>\n",
       "      <td>28.950000</td>\n",
       "      <td>1.543187e+09</td>\n",
       "    </tr>\n",
       "    <tr>\n",
       "      <th>25%</th>\n",
       "      <td>173489.750000</td>\n",
       "      <td>1.543444e+09</td>\n",
       "      <td>6.000000</td>\n",
       "      <td>13.000000</td>\n",
       "      <td>11.000000</td>\n",
       "      <td>7.500000</td>\n",
       "      <td>1.280000</td>\n",
       "      <td>1.000000</td>\n",
       "      <td>42.350300</td>\n",
       "      <td>-71.081000</td>\n",
       "      <td>...</td>\n",
       "      <td>0.000000</td>\n",
       "      <td>1.543421e+09</td>\n",
       "      <td>30.170000</td>\n",
       "      <td>1.543399e+09</td>\n",
       "      <td>42.570000</td>\n",
       "      <td>1.543439e+09</td>\n",
       "      <td>27.760000</td>\n",
       "      <td>1.543399e+09</td>\n",
       "      <td>36.570000</td>\n",
       "      <td>1.543439e+09</td>\n",
       "    </tr>\n",
       "    <tr>\n",
       "      <th>50%</th>\n",
       "      <td>346785.000000</td>\n",
       "      <td>1.543738e+09</td>\n",
       "      <td>12.000000</td>\n",
       "      <td>17.000000</td>\n",
       "      <td>12.000000</td>\n",
       "      <td>10.500000</td>\n",
       "      <td>2.170000</td>\n",
       "      <td>1.000000</td>\n",
       "      <td>42.351900</td>\n",
       "      <td>-71.063100</td>\n",
       "      <td>...</td>\n",
       "      <td>0.000400</td>\n",
       "      <td>1.543770e+09</td>\n",
       "      <td>34.240000</td>\n",
       "      <td>1.543727e+09</td>\n",
       "      <td>44.660000</td>\n",
       "      <td>1.543788e+09</td>\n",
       "      <td>30.130000</td>\n",
       "      <td>1.543745e+09</td>\n",
       "      <td>40.950000</td>\n",
       "      <td>1.543788e+09</td>\n",
       "    </tr>\n",
       "    <tr>\n",
       "      <th>75%</th>\n",
       "      <td>520066.250000</td>\n",
       "      <td>1.544828e+09</td>\n",
       "      <td>18.000000</td>\n",
       "      <td>28.000000</td>\n",
       "      <td>12.000000</td>\n",
       "      <td>22.500000</td>\n",
       "      <td>2.880000</td>\n",
       "      <td>1.000000</td>\n",
       "      <td>42.364700</td>\n",
       "      <td>-71.054200</td>\n",
       "      <td>...</td>\n",
       "      <td>0.091600</td>\n",
       "      <td>1.544807e+09</td>\n",
       "      <td>38.880000</td>\n",
       "      <td>1.544789e+09</td>\n",
       "      <td>46.910000</td>\n",
       "      <td>1.544814e+09</td>\n",
       "      <td>35.710000</td>\n",
       "      <td>1.544789e+09</td>\n",
       "      <td>44.120000</td>\n",
       "      <td>1.544818e+09</td>\n",
       "    </tr>\n",
       "    <tr>\n",
       "      <th>max</th>\n",
       "      <td>693070.000000</td>\n",
       "      <td>1.545161e+09</td>\n",
       "      <td>23.000000</td>\n",
       "      <td>30.000000</td>\n",
       "      <td>12.000000</td>\n",
       "      <td>89.500000</td>\n",
       "      <td>7.860000</td>\n",
       "      <td>2.000000</td>\n",
       "      <td>42.366100</td>\n",
       "      <td>-71.033000</td>\n",
       "      <td>...</td>\n",
       "      <td>0.145900</td>\n",
       "      <td>1.545152e+09</td>\n",
       "      <td>43.100000</td>\n",
       "      <td>1.545192e+09</td>\n",
       "      <td>57.870000</td>\n",
       "      <td>1.545109e+09</td>\n",
       "      <td>40.050000</td>\n",
       "      <td>1.545134e+09</td>\n",
       "      <td>57.200000</td>\n",
       "      <td>1.545109e+09</td>\n",
       "    </tr>\n",
       "  </tbody>\n",
       "</table>\n",
       "<p>8 rows × 47 columns</p>\n",
       "</div>"
      ],
      "text/plain": [
       "          Unnamed: 0     timestamp           hour            day  \\\n",
       "count  322844.000000  3.228440e+05  322844.000000  322844.000000   \n",
       "mean   346778.946299  1.544047e+09      11.611986      17.793380   \n",
       "std    200151.866895  6.893543e+05       6.945794       9.977869   \n",
       "min         0.000000  1.543204e+09       0.000000       1.000000   \n",
       "25%    173489.750000  1.543444e+09       6.000000      13.000000   \n",
       "50%    346785.000000  1.543738e+09      12.000000      17.000000   \n",
       "75%    520066.250000  1.544828e+09      18.000000      28.000000   \n",
       "max    693070.000000  1.545161e+09      23.000000      30.000000   \n",
       "\n",
       "               month          price       distance  surge_multiplier  \\\n",
       "count  322844.000000  267749.000000  322844.000000     322844.000000   \n",
       "mean       11.587045      14.596878       2.189991          1.005900   \n",
       "std         0.492366       9.573120       1.150471          0.059262   \n",
       "min        11.000000       2.500000       0.020000          1.000000   \n",
       "25%        11.000000       7.500000       1.280000          1.000000   \n",
       "50%        12.000000      10.500000       2.170000          1.000000   \n",
       "75%        12.000000      22.500000       2.880000          1.000000   \n",
       "max        12.000000      89.500000       7.860000          2.000000   \n",
       "\n",
       "            latitude      longitude  ...  precipIntensityMax   uvIndexTime  \\\n",
       "count  322844.000000  322844.000000  ...       322844.000000  3.228440e+05   \n",
       "mean       42.338073     -71.066162  ...            0.037368  1.544045e+09   \n",
       "std         0.047918       0.020321  ...            0.055194  6.913761e+05   \n",
       "min        42.214800     -71.105400  ...            0.000000  1.543162e+09   \n",
       "25%        42.350300     -71.081000  ...            0.000000  1.543421e+09   \n",
       "50%        42.351900     -71.063100  ...            0.000400  1.543770e+09   \n",
       "75%        42.364700     -71.054200  ...            0.091600  1.544807e+09   \n",
       "max        42.366100     -71.033000  ...            0.145900  1.545152e+09   \n",
       "\n",
       "       temperatureMin  temperatureMinTime  temperatureMax  temperatureMaxTime  \\\n",
       "count   322844.000000        3.228440e+05   322844.000000        3.228440e+05   \n",
       "mean        33.458969        1.544042e+09       45.263932        1.544048e+09   \n",
       "std          6.468837        6.903767e+05        5.647543        6.903028e+05   \n",
       "min         15.630000        1.543122e+09       33.510000        1.543154e+09   \n",
       "25%         30.170000        1.543399e+09       42.570000        1.543439e+09   \n",
       "50%         34.240000        1.543727e+09       44.660000        1.543788e+09   \n",
       "75%         38.880000        1.544789e+09       46.910000        1.544814e+09   \n",
       "max         43.100000        1.545192e+09       57.870000        1.545109e+09   \n",
       "\n",
       "       apparentTemperatureMin  apparentTemperatureMinTime  \\\n",
       "count           322844.000000                3.228440e+05   \n",
       "mean                29.730870                1.544049e+09   \n",
       "std                  7.113967                6.873598e+05   \n",
       "min                 11.810000                1.543136e+09   \n",
       "25%                 27.760000                1.543399e+09   \n",
       "50%                 30.130000                1.543745e+09   \n",
       "75%                 35.710000                1.544789e+09   \n",
       "max                 40.050000                1.545134e+09   \n",
       "\n",
       "       apparentTemperatureMax  apparentTemperatureMaxTime  \n",
       "count           322844.000000                3.228440e+05  \n",
       "mean                41.997339                1.544049e+09  \n",
       "std                  6.941223                6.912309e+05  \n",
       "min                 28.950000                1.543187e+09  \n",
       "25%                 36.570000                1.543439e+09  \n",
       "50%                 40.950000                1.543788e+09  \n",
       "75%                 44.120000                1.544818e+09  \n",
       "max                 57.200000                1.545109e+09  \n",
       "\n",
       "[8 rows x 47 columns]"
      ]
     },
     "execution_count": 331,
     "metadata": {},
     "output_type": "execute_result"
    }
   ],
   "source": [
    "uber_dataset.describe()"
   ]
  },
  {
   "cell_type": "code",
   "execution_count": 332,
   "metadata": {
    "colab": {
     "base_uri": "https://localhost:8080/"
    },
    "id": "G79HQLtXdM1W",
    "outputId": "db1e3ce5-826c-4451-fe6d-a2f1a9e69a34"
   },
   "outputs": [
    {
     "data": {
      "text/plain": [
       "Unnamed: 0                         0\n",
       "id                                 0\n",
       "timestamp                          0\n",
       "hour                               0\n",
       "day                                0\n",
       "month                              0\n",
       "datetime                           0\n",
       "timezone                           0\n",
       "source                             0\n",
       "destination                        0\n",
       "cab_type                           0\n",
       "product_id                         0\n",
       "name                               0\n",
       "price                          55095\n",
       "distance                           0\n",
       "surge_multiplier                   0\n",
       "latitude                           0\n",
       "longitude                          0\n",
       "temperature                        0\n",
       "apparentTemperature                0\n",
       "short_summary                      0\n",
       "long_summary                       0\n",
       "precipIntensity                    0\n",
       "precipProbability                  0\n",
       "humidity                           0\n",
       "windSpeed                          0\n",
       "windGust                           0\n",
       "windGustTime                       0\n",
       "visibility                         0\n",
       "temperatureHigh                    0\n",
       "temperatureHighTime                0\n",
       "temperatureLow                     0\n",
       "temperatureLowTime                 0\n",
       "apparentTemperatureHigh            0\n",
       "apparentTemperatureHighTime        0\n",
       "apparentTemperatureLow             0\n",
       "apparentTemperatureLowTime         0\n",
       "icon                               0\n",
       "dewPoint                           0\n",
       "pressure                           0\n",
       "windBearing                        0\n",
       "cloudCover                         0\n",
       "uvIndex                            0\n",
       "visibility.1                       0\n",
       "ozone                              0\n",
       "sunriseTime                        0\n",
       "sunsetTime                         0\n",
       "moonPhase                          0\n",
       "precipIntensityMax                 0\n",
       "uvIndexTime                        0\n",
       "temperatureMin                     0\n",
       "temperatureMinTime                 0\n",
       "temperatureMax                     0\n",
       "temperatureMaxTime                 0\n",
       "apparentTemperatureMin             0\n",
       "apparentTemperatureMinTime         0\n",
       "apparentTemperatureMax             0\n",
       "apparentTemperatureMaxTime         0\n",
       "dtype: int64"
      ]
     },
     "execution_count": 332,
     "metadata": {},
     "output_type": "execute_result"
    }
   ],
   "source": [
    "uber_dataset.isnull().sum()"
   ]
  },
  {
   "cell_type": "markdown",
   "metadata": {
    "id": "byuNn6SDdM1X"
   },
   "source": [
    "## 4. Feature Engineering\n",
    "-----------------------------------------------------\n",
    "\n",
    "What is a feature and why we need the engineering of it? Basically, all machine learning algorithms use some input data to create outputs. This input data comprise features, which are usually in the form of structured columns. Algorithms require features with some specific characteristic to work properly. Here, the need for feature engineering arises. \n",
    "\n",
    "I think feature engineering efforts mainly have two goals:\n",
    "\n",
    "1) Preparing the proper input dataset, compatible with the machine learning algorithm requirements.\n",
    "\n",
    "2) Improving the performance of machine learning models.\n",
    "\n",
    "**According to a survey in Forbes, data scientists spend 80% of their time on data preparation:**"
   ]
  },
  {
   "cell_type": "markdown",
   "metadata": {
    "id": "dMEqz3Nn671w"
   },
   "source": [
    "### Ploting"
   ]
  },
  {
   "cell_type": "code",
   "execution_count": 333,
   "metadata": {
    "id": "JWSl-RxHdM1X"
   },
   "outputs": [],
   "source": [
    "import matplotlib.pyplot as plt\n",
    "import numpy as np\n",
    "%matplotlib inline\n",
    "import seaborn as sns\n",
    "import pandas as pd"
   ]
  },
  {
   "cell_type": "markdown",
   "metadata": {
    "id": "i58T7AyjdM1X"
   },
   "source": [
    "#### Strip Plots"
   ]
  },
  {
   "cell_type": "code",
   "execution_count": 334,
   "metadata": {
    "colab": {
     "base_uri": "https://localhost:8080/",
     "height": 296
    },
    "id": "kcMM9ZzAdM1X",
    "outputId": "0783293e-b75e-4fab-af40-ce3b7026600d"
   },
   "outputs": [
    {
     "data": {
      "text/plain": [
       "<AxesSubplot:xlabel='price', ylabel='name'>"
      ]
     },
     "execution_count": 334,
     "metadata": {},
     "output_type": "execute_result"
    },
    {
     "data": {
      "image/png": "[encoded data removed]",
      "text/plain": [
       "<Figure size 432x288 with 1 Axes>"
      ]
     },
     "metadata": {
      "needs_background": "light"
     },
     "output_type": "display_data"
    }
   ],
   "source": [
    "sns.stripplot(data=uber_dataset, x='price', y='name')"
   ]
  },
  {
   "cell_type": "code",
   "execution_count": 335,
   "metadata": {
    "colab": {
     "base_uri": "https://localhost:8080/",
     "height": 296
    },
    "id": "Wd3NSU2Kpbif",
    "outputId": "4b90cbd0-97a8-4924-e9c9-4201f7fc1fec"
   },
   "outputs": [
    {
     "data": {
      "text/plain": [
       "<AxesSubplot:xlabel='price', ylabel='icon'>"
      ]
     },
     "execution_count": 335,
     "metadata": {},
     "output_type": "execute_result"
    },
    {
     "data": {
      "image/png": "[encoded data removed]",
      "text/plain": [
       "<Figure size 432x288 with 1 Axes>"
      ]
     },
     "metadata": {
      "needs_background": "light"
     },
     "output_type": "display_data"
    }
   ],
   "source": [
    "sns.stripplot(data=uber_dataset, x='price', y='icon')"
   ]
  },
  {
   "cell_type": "code",
   "execution_count": 336,
   "metadata": {
    "colab": {
     "base_uri": "https://localhost:8080/",
     "height": 297
    },
    "id": "g-7nA4HMdM1Y",
    "outputId": "00a0b769-b289-4fe4-c335-1f708a3ade59"
   },
   "outputs": [
    {
     "data": {
      "text/plain": [
       "<AxesSubplot:xlabel='surge_multiplier', ylabel='source'>"
      ]
     },
     "execution_count": 336,
     "metadata": {},
     "output_type": "execute_result"
    },
    {
     "data": {
      "image/png": "[encoded data removed]",
      "text/plain": [
       "<Figure size 432x288 with 1 Axes>"
      ]
     },
     "metadata": {
      "needs_background": "light"
     },
     "output_type": "display_data"
    }
   ],
   "source": [
    "sns.stripplot(data=uber_dataset, x='surge_multiplier', y='source')"
   ]
  },
  {
   "cell_type": "code",
   "execution_count": 337,
   "metadata": {
    "colab": {
     "base_uri": "https://localhost:8080/",
     "height": 297
    },
    "id": "Lac88Z51dM1Y",
    "outputId": "b3acbdc3-ff12-406c-8a15-2d5ac86fb34c"
   },
   "outputs": [
    {
     "data": {
      "text/plain": [
       "<AxesSubplot:xlabel='surge_multiplier', ylabel='hour'>"
      ]
     },
     "execution_count": 337,
     "metadata": {},
     "output_type": "execute_result"
    },
    {
     "data": {
      "image/png": "[encoded data removed]",
      "text/plain": [
       "<Figure size 432x288 with 1 Axes>"
      ]
     },
     "metadata": {
      "needs_background": "light"
     },
     "output_type": "display_data"
    }
   ],
   "source": [
    "sns.stripplot(data=uber_dataset, x='surge_multiplier', y='hour')"
   ]
  },
  {
   "cell_type": "markdown",
   "metadata": {
    "id": "qi1G0xr8dM1Y"
   },
   "source": [
    "#### Converting Timestamp to Datetime value"
   ]
  },
  {
   "cell_type": "code",
   "execution_count": 338,
   "metadata": {
    "colab": {
     "base_uri": "https://localhost:8080/"
    },
    "id": "wCQGBqcFdM1Y",
    "outputId": "c04bb4db-11c9-4a42-98fb-220d362f324e"
   },
   "outputs": [
    {
     "data": {
      "text/plain": [
       "0    1.544953e+09\n",
       "1    1.543284e+09\n",
       "2    1.543818e+09\n",
       "3    1.543594e+09\n",
       "4    1.544729e+09\n",
       "Name: timestamp, dtype: float64"
      ]
     },
     "execution_count": 338,
     "metadata": {},
     "output_type": "execute_result"
    }
   ],
   "source": [
    "uber_dataset['timestamp'].head()"
   ]
  },
  {
   "cell_type": "code",
   "execution_count": 339,
   "metadata": {},
   "outputs": [
    {
     "name": "stdout",
     "output_type": "stream",
     "text": [
      "dt_object = 2018-12-16 15:00:08\n",
      "dt_object = 2018-11-27 07:30:24\n",
      "dt_object = 2018-12-03 11:58:03\n",
      "dt_object = 2018-11-30 21:43:04\n",
      "dt_object = 2018-12-14 00:45:04\n"
     ]
    }
   ],
   "source": [
    "from datetime import datetime\n",
    "timestamp1 = 1544952608\n",
    "timestamp2 = 1543284024\n",
    "timestamp3 = 1543818483\n",
    "timestamp4 = 1543594384\n",
    "timestamp5 = 1544728504\n",
    "dt_object1 = datetime.fromtimestamp(timestamp1)\n",
    "dt_object2 = datetime.fromtimestamp(timestamp2)\n",
    "dt_object3 = datetime.fromtimestamp(timestamp3)\n",
    "dt_object4 = datetime.fromtimestamp(timestamp4)\n",
    "dt_object5 = datetime.fromtimestamp(timestamp5)\n",
    "\n",
    "print(\"dt_object =\", dt_object1)\n",
    "print(\"dt_object =\", dt_object2)\n",
    "print(\"dt_object =\", dt_object3)\n",
    "print(\"dt_object =\", dt_object4)\n",
    "print(\"dt_object =\", dt_object5)"
   ]
  },
  {
   "cell_type": "markdown",
   "metadata": {},
   "source": [
    "- So by this timestamp to datetime conversion we get to know that, our data is of the year 2018 and in the month of november and december only"
   ]
  },
  {
   "cell_type": "markdown",
   "metadata": {
    "id": "dRoH3R3SdM1Z"
   },
   "source": [
    "#### Bar plots"
   ]
  },
  {
   "cell_type": "code",
   "execution_count": 340,
   "metadata": {
    "colab": {
     "base_uri": "https://localhost:8080/",
     "height": 339
    },
    "id": "p-9XJDcldM1Z",
    "outputId": "29890236-b7b1-4204-d09e-24d761afcb94"
   },
   "outputs": [
    {
     "data": {
      "text/plain": [
       "<AxesSubplot:>"
      ]
     },
     "execution_count": 340,
     "metadata": {},
     "output_type": "execute_result"
    },
    {
     "data": {
      "image/png": "[encoded data removed]",
      "text/plain": [
       "<Figure size 720x360 with 1 Axes>"
      ]
     },
     "metadata": {
      "needs_background": "light"
     },
     "output_type": "display_data"
    }
   ],
   "source": [
    "uber_dataset['month'].value_counts().plot(kind='bar', figsize=(10,5), color='blue')"
   ]
  },
  {
   "cell_type": "code",
   "execution_count": 341,
   "metadata": {
    "colab": {
     "base_uri": "https://localhost:8080/",
     "height": 446
    },
    "id": "GlQWkPWydM1a",
    "outputId": "a6a6f2c3-b128-454b-f1e3-86e887bc6f37"
   },
   "outputs": [
    {
     "data": {
      "text/plain": [
       "<AxesSubplot:>"
      ]
     },
     "execution_count": 341,
     "metadata": {},
     "output_type": "execute_result"
    },
    {
     "data": {
      "image/png": "[encoded data removed]",
      "text/plain": [
       "<Figure size 720x360 with 1 Axes>"
      ]
     },
     "metadata": {
      "needs_background": "light"
     },
     "output_type": "display_data"
    }
   ],
   "source": [
    "uber_dataset['source'].value_counts().plot(kind='bar', figsize=(10,5), color='green')"
   ]
  },
  {
   "cell_type": "code",
   "execution_count": 342,
   "metadata": {
    "colab": {
     "base_uri": "https://localhost:8080/",
     "height": 377
    },
    "id": "PoyZzStKdM1a",
    "outputId": "8847ae8b-c257-407e-e131-ddec1db6e925"
   },
   "outputs": [
    {
     "data": {
      "text/plain": [
       "<AxesSubplot:>"
      ]
     },
     "execution_count": 342,
     "metadata": {},
     "output_type": "execute_result"
    },
    {
     "data": {
      "image/png": "[encoded data removed]",
      "text/plain": [
       "<Figure size 720x360 with 1 Axes>"
      ]
     },
     "metadata": {
      "needs_background": "light"
     },
     "output_type": "display_data"
    }
   ],
   "source": [
    "uber_dataset['name'].value_counts().plot(kind='bar', figsize=(10,5), color='orange')"
   ]
  },
  {
   "cell_type": "code",
   "execution_count": 343,
   "metadata": {
    "colab": {
     "base_uri": "https://localhost:8080/",
     "height": 428
    },
    "id": "FnccWsNkdM1a",
    "outputId": "ad8758bb-c770-4be8-e4f3-d6b157a3c173"
   },
   "outputs": [
    {
     "data": {
      "text/plain": [
       "<AxesSubplot:>"
      ]
     },
     "execution_count": 343,
     "metadata": {},
     "output_type": "execute_result"
    },
    {
     "data": {
      "image/png": "[encoded data removed]",
      "text/plain": [
       "<Figure size 720x360 with 1 Axes>"
      ]
     },
     "metadata": {
      "needs_background": "light"
     },
     "output_type": "display_data"
    }
   ],
   "source": [
    "uber_dataset['icon'].value_counts().plot(kind='bar', figsize=(10,5), color='red')"
   ]
  },
  {
   "cell_type": "code",
   "execution_count": 344,
   "metadata": {
    "colab": {
     "base_uri": "https://localhost:8080/",
     "height": 333
    },
    "id": "n_R2K2icdM1a",
    "outputId": "77116a09-5ab0-46c5-ca61-457ba1a4bbfd"
   },
   "outputs": [
    {
     "data": {
      "text/plain": [
       "<AxesSubplot:>"
      ]
     },
     "execution_count": 344,
     "metadata": {},
     "output_type": "execute_result"
    },
    {
     "data": {
      "image/png": "[encoded data removed]",
      "text/plain": [
       "<Figure size 720x360 with 1 Axes>"
      ]
     },
     "metadata": {
      "needs_background": "light"
     },
     "output_type": "display_data"
    }
   ],
   "source": [
    "uber_dataset['uvIndex'].value_counts().plot(kind='bar', figsize=(10,5), color='brown')"
   ]
  },
  {
   "cell_type": "code",
   "execution_count": 345,
   "metadata": {
    "colab": {
     "base_uri": "https://localhost:8080/",
     "height": 349
    },
    "id": "NuEyhvgadM1b",
    "outputId": "545c5871-a840-4dd4-e3d6-4a2c68d95810"
   },
   "outputs": [
    {
     "data": {
      "text/plain": [
       "<AxesSubplot:>"
      ]
     },
     "execution_count": 345,
     "metadata": {},
     "output_type": "execute_result"
    },
    {
     "data": {
      "image/png": "[encoded data removed]",
      "text/plain": [
       "<Figure size 720x360 with 1 Axes>"
      ]
     },
     "metadata": {
      "needs_background": "light"
     },
     "output_type": "display_data"
    }
   ],
   "source": [
    "uber_dataset['moonPhase'].value_counts().plot(kind='bar', figsize=(10,5), color='orange')"
   ]
  },
  {
   "cell_type": "code",
   "execution_count": 346,
   "metadata": {
    "colab": {
     "base_uri": "https://localhost:8080/",
     "height": 349
    },
    "id": "br6awwc4dM1b",
    "outputId": "5abfb5a4-56ac-4af3-bd51-f812c6149143"
   },
   "outputs": [
    {
     "data": {
      "text/plain": [
       "<AxesSubplot:>"
      ]
     },
     "execution_count": 346,
     "metadata": {},
     "output_type": "execute_result"
    },
    {
     "data": {
      "image/png": "[encoded data removed]",
      "text/plain": [
       "<Figure size 720x360 with 1 Axes>"
      ]
     },
     "metadata": {
      "needs_background": "light"
     },
     "output_type": "display_data"
    }
   ],
   "source": [
    "uber_dataset['precipProbability'].value_counts().plot(kind='bar', figsize=(10,5), color='blue')"
   ]
  },
  {
   "cell_type": "markdown",
   "metadata": {
    "id": "JXZS2rP2dM1b"
   },
   "source": [
    "### Label Encoding"
   ]
  },
  {
   "cell_type": "code",
   "execution_count": 347,
   "metadata": {
    "id": "jifvbsGzdM1b"
   },
   "outputs": [],
   "source": [
    "# Import label encoder \n",
    "from sklearn import preprocessing \n",
    "  \n",
    "# label_encoder object knows how to understand word labels. \n",
    "label_encoder = preprocessing.LabelEncoder() "
   ]
  },
  {
   "cell_type": "code",
   "execution_count": 348,
   "metadata": {
    "colab": {
     "base_uri": "https://localhost:8080/"
    },
    "id": "1_sciw5SdM1b",
    "outputId": "34da9e9d-76b0-46b2-9b8b-76af0175e2a0"
   },
   "outputs": [
    {
     "data": {
      "text/plain": [
       "Unnamed: 0                       int64\n",
       "id                              object\n",
       "timestamp                      float64\n",
       "hour                             int64\n",
       "day                              int64\n",
       "month                            int64\n",
       "datetime                        object\n",
       "timezone                        object\n",
       "source                          object\n",
       "destination                     object\n",
       "cab_type                        object\n",
       "product_id                      object\n",
       "name                            object\n",
       "price                          float64\n",
       "distance                       float64\n",
       "surge_multiplier               float64\n",
       "latitude                       float64\n",
       "longitude                      float64\n",
       "temperature                    float64\n",
       "apparentTemperature            float64\n",
       "short_summary                   object\n",
       "long_summary                    object\n",
       "precipIntensity                float64\n",
       "precipProbability              float64\n",
       "humidity                       float64\n",
       "windSpeed                      float64\n",
       "windGust                       float64\n",
       "windGustTime                     int64\n",
       "visibility                     float64\n",
       "temperatureHigh                float64\n",
       "temperatureHighTime              int64\n",
       "temperatureLow                 float64\n",
       "temperatureLowTime               int64\n",
       "apparentTemperatureHigh        float64\n",
       "apparentTemperatureHighTime      int64\n",
       "apparentTemperatureLow         float64\n",
       "apparentTemperatureLowTime       int64\n",
       "icon                            object\n",
       "dewPoint                       float64\n",
       "pressure                       float64\n",
       "windBearing                      int64\n",
       "cloudCover                     float64\n",
       "uvIndex                          int64\n",
       "visibility.1                   float64\n",
       "ozone                          float64\n",
       "sunriseTime                      int64\n",
       "sunsetTime                       int64\n",
       "moonPhase                      float64\n",
       "precipIntensityMax             float64\n",
       "uvIndexTime                      int64\n",
       "temperatureMin                 float64\n",
       "temperatureMinTime               int64\n",
       "temperatureMax                 float64\n",
       "temperatureMaxTime               int64\n",
       "apparentTemperatureMin         float64\n",
       "apparentTemperatureMinTime       int64\n",
       "apparentTemperatureMax         float64\n",
       "apparentTemperatureMaxTime       int64\n",
       "dtype: object"
      ]
     },
     "execution_count": 348,
     "metadata": {},
     "output_type": "execute_result"
    }
   ],
   "source": [
    "uber_dataset.dtypes"
   ]
  },
  {
   "cell_type": "code",
   "execution_count": 349,
   "metadata": {},
   "outputs": [],
   "source": [
    "uber_dataset['id']= label_encoder.fit_transform(uber_dataset['id']) \n",
    "uber_dataset['datetime']= label_encoder.fit_transform(uber_dataset['datetime']) \n",
    "uber_dataset['timezone']= label_encoder.fit_transform(uber_dataset['timezone'])\n",
    "uber_dataset['destination']= label_encoder.fit_transform(uber_dataset['destination']) \n",
    "uber_dataset['product_id']= label_encoder.fit_transform(uber_dataset['product_id'])\n",
    "uber_dataset['short_summary']= label_encoder.fit_transform(uber_dataset['short_summary'])\n",
    "uber_dataset['long_summary']= label_encoder.fit_transform(uber_dataset['long_summary'])"
   ]
  },
  {
   "cell_type": "code",
   "execution_count": 350,
   "metadata": {},
   "outputs": [
    {
     "name": "stdout",
     "output_type": "stream",
     "text": [
      "Class mapping of Name: \n",
      "Black SUV --> 0\n",
      "Lux --> 1\n",
      "Shared --> 2\n",
      "Taxi --> 3\n",
      "UberPool --> 4\n",
      "UberX --> 5\n"
     ]
    }
   ],
   "source": [
    "uber_dataset['name']= label_encoder.fit_transform(uber_dataset['name'])\n",
    "\n",
    "print(\"Class mapping of Name: \")\n",
    "for i, item in enumerate(label_encoder.classes_):\n",
    "    print(item, \"-->\", i)"
   ]
  },
  {
   "cell_type": "code",
   "execution_count": 351,
   "metadata": {},
   "outputs": [],
   "source": [
    "uber_dataset['cab_type']= label_encoder.fit_transform(uber_dataset['cab_type'])"
   ]
  },
  {
   "cell_type": "code",
   "execution_count": 352,
   "metadata": {},
   "outputs": [
    {
     "name": "stdout",
     "output_type": "stream",
     "text": [
      "cab_type\n"
     ]
    }
   ],
   "source": [
    "print('cab_type')"
   ]
  },
  {
   "cell_type": "code",
   "execution_count": 353,
   "metadata": {},
   "outputs": [
    {
     "name": "stdout",
     "output_type": "stream",
     "text": [
      "Class mapping of Source: \n",
      "Back Bay --> 0\n",
      "Beacon Hill --> 1\n",
      "Boston University --> 2\n",
      "Fenway --> 3\n",
      "Financial District --> 4\n",
      "Haymarket Square --> 5\n",
      "North End --> 6\n",
      "North Station --> 7\n",
      "Northeastern University --> 8\n",
      "South Station --> 9\n",
      "Theatre District --> 10\n",
      "West End --> 11\n"
     ]
    }
   ],
   "source": [
    "uber_dataset['source']= label_encoder.fit_transform(uber_dataset['source'])\n",
    "\n",
    "print(\"Class mapping of Source: \")\n",
    "for i, item in enumerate(label_encoder.classes_):\n",
    "    print(item, \"-->\", i)"
   ]
  },
  {
   "cell_type": "code",
   "execution_count": 354,
   "metadata": {
    "id": "z5JEPXQ9dM1b"
   },
   "outputs": [
    {
     "name": "stdout",
     "output_type": "stream",
     "text": [
      "Class mapping of Icon: \n",
      " clear-day  --> 0\n",
      " clear-night  --> 1\n",
      " cloudy  --> 2\n",
      " fog  --> 3\n",
      " partly-cloudy-day  --> 4\n",
      " partly-cloudy-night  --> 5\n",
      " rain  --> 6\n"
     ]
    }
   ],
   "source": [
    "uber_dataset['icon']= label_encoder.fit_transform(uber_dataset['icon'])\n",
    "\n",
    "print(\"Class mapping of Icon: \")\n",
    "for i, item in enumerate(label_encoder.classes_):\n",
    "    print(item, \"-->\", i)"
   ]
  },
  {
   "cell_type": "code",
   "execution_count": 355,
   "metadata": {
    "colab": {
     "base_uri": "https://localhost:8080/"
    },
    "id": "kFeWRoYTdM1c",
    "outputId": "ffa6fdd2-17d5-4d07-85d8-19bedff646a6"
   },
   "outputs": [
    {
     "data": {
      "text/plain": [
       "Unnamed: 0                       int64\n",
       "id                               int32\n",
       "timestamp                      float64\n",
       "hour                             int64\n",
       "day                              int64\n",
       "month                            int64\n",
       "datetime                         int32\n",
       "timezone                         int32\n",
       "source                           int32\n",
       "destination                      int32\n",
       "cab_type                         int32\n",
       "product_id                       int32\n",
       "name                             int32\n",
       "price                          float64\n",
       "distance                       float64\n",
       "surge_multiplier               float64\n",
       "latitude                       float64\n",
       "longitude                      float64\n",
       "temperature                    float64\n",
       "apparentTemperature            float64\n",
       "short_summary                    int32\n",
       "long_summary                     int32\n",
       "precipIntensity                float64\n",
       "precipProbability              float64\n",
       "humidity                       float64\n",
       "windSpeed                      float64\n",
       "windGust                       float64\n",
       "windGustTime                     int64\n",
       "visibility                     float64\n",
       "temperatureHigh                float64\n",
       "temperatureHighTime              int64\n",
       "temperatureLow                 float64\n",
       "temperatureLowTime               int64\n",
       "apparentTemperatureHigh        float64\n",
       "apparentTemperatureHighTime      int64\n",
       "apparentTemperatureLow         float64\n",
       "apparentTemperatureLowTime       int64\n",
       "icon                             int32\n",
       "dewPoint                       float64\n",
       "pressure                       float64\n",
       "windBearing                      int64\n",
       "cloudCover                     float64\n",
       "uvIndex                          int64\n",
       "visibility.1                   float64\n",
       "ozone                          float64\n",
       "sunriseTime                      int64\n",
       "sunsetTime                       int64\n",
       "moonPhase                      float64\n",
       "precipIntensityMax             float64\n",
       "uvIndexTime                      int64\n",
       "temperatureMin                 float64\n",
       "temperatureMinTime               int64\n",
       "temperatureMax                 float64\n",
       "temperatureMaxTime               int64\n",
       "apparentTemperatureMin         float64\n",
       "apparentTemperatureMinTime       int64\n",
       "apparentTemperatureMax         float64\n",
       "apparentTemperatureMaxTime       int64\n",
       "dtype: object"
      ]
     },
     "execution_count": 355,
     "metadata": {},
     "output_type": "execute_result"
    }
   ],
   "source": [
    "uber_dataset.dtypes"
   ]
  },
  {
   "cell_type": "code",
   "execution_count": 356,
   "metadata": {
    "colab": {
     "base_uri": "https://localhost:8080/",
     "height": 0
    },
    "id": "eZiAMOtUdM1c",
    "outputId": "440c921d-695e-4fa6-d081-27f65a8697ec"
   },
   "outputs": [
    {
     "data": {
      "text/html": [
       "<div>\n",
       "<style scoped>\n",
       "    .dataframe tbody tr th:only-of-type {\n",
       "        vertical-align: middle;\n",
       "    }\n",
       "\n",
       "    .dataframe tbody tr th {\n",
       "        vertical-align: top;\n",
       "    }\n",
       "\n",
       "    .dataframe thead th {\n",
       "        text-align: right;\n",
       "    }\n",
       "</style>\n",
       "<table border=\"1\" class=\"dataframe\">\n",
       "  <thead>\n",
       "    <tr style=\"text-align: right;\">\n",
       "      <th></th>\n",
       "      <th>Unnamed: 0</th>\n",
       "      <th>id</th>\n",
       "      <th>timestamp</th>\n",
       "      <th>hour</th>\n",
       "      <th>day</th>\n",
       "      <th>month</th>\n",
       "      <th>datetime</th>\n",
       "      <th>timezone</th>\n",
       "      <th>source</th>\n",
       "      <th>destination</th>\n",
       "      <th>...</th>\n",
       "      <th>precipIntensityMax</th>\n",
       "      <th>uvIndexTime</th>\n",
       "      <th>temperatureMin</th>\n",
       "      <th>temperatureMinTime</th>\n",
       "      <th>temperatureMax</th>\n",
       "      <th>temperatureMaxTime</th>\n",
       "      <th>apparentTemperatureMin</th>\n",
       "      <th>apparentTemperatureMinTime</th>\n",
       "      <th>apparentTemperatureMax</th>\n",
       "      <th>apparentTemperatureMaxTime</th>\n",
       "    </tr>\n",
       "  </thead>\n",
       "  <tbody>\n",
       "    <tr>\n",
       "      <th>0</th>\n",
       "      <td>0</td>\n",
       "      <td>83667</td>\n",
       "      <td>1.544953e+09</td>\n",
       "      <td>9</td>\n",
       "      <td>16</td>\n",
       "      <td>12</td>\n",
       "      <td>25323</td>\n",
       "      <td>0</td>\n",
       "      <td>5</td>\n",
       "      <td>7</td>\n",
       "      <td>...</td>\n",
       "      <td>0.1276</td>\n",
       "      <td>1544979600</td>\n",
       "      <td>39.89</td>\n",
       "      <td>1545012000</td>\n",
       "      <td>43.68</td>\n",
       "      <td>1544968800</td>\n",
       "      <td>33.73</td>\n",
       "      <td>1545012000</td>\n",
       "      <td>38.07</td>\n",
       "      <td>1544958000</td>\n",
       "    </tr>\n",
       "    <tr>\n",
       "      <th>1</th>\n",
       "      <td>1</td>\n",
       "      <td>95698</td>\n",
       "      <td>1.543284e+09</td>\n",
       "      <td>2</td>\n",
       "      <td>27</td>\n",
       "      <td>11</td>\n",
       "      <td>960</td>\n",
       "      <td>0</td>\n",
       "      <td>5</td>\n",
       "      <td>7</td>\n",
       "      <td>...</td>\n",
       "      <td>0.1300</td>\n",
       "      <td>1543251600</td>\n",
       "      <td>40.49</td>\n",
       "      <td>1543233600</td>\n",
       "      <td>47.30</td>\n",
       "      <td>1543251600</td>\n",
       "      <td>36.20</td>\n",
       "      <td>1543291200</td>\n",
       "      <td>43.92</td>\n",
       "      <td>1543251600</td>\n",
       "    </tr>\n",
       "    <tr>\n",
       "      <th>2</th>\n",
       "      <td>8</td>\n",
       "      <td>100484</td>\n",
       "      <td>1.543818e+09</td>\n",
       "      <td>6</td>\n",
       "      <td>3</td>\n",
       "      <td>12</td>\n",
       "      <td>14499</td>\n",
       "      <td>0</td>\n",
       "      <td>0</td>\n",
       "      <td>8</td>\n",
       "      <td>...</td>\n",
       "      <td>0.0004</td>\n",
       "      <td>1543852800</td>\n",
       "      <td>43.09</td>\n",
       "      <td>1543896000</td>\n",
       "      <td>57.02</td>\n",
       "      <td>1543852800</td>\n",
       "      <td>39.90</td>\n",
       "      <td>1543896000</td>\n",
       "      <td>56.35</td>\n",
       "      <td>1543852800</td>\n",
       "    </tr>\n",
       "    <tr>\n",
       "      <th>3</th>\n",
       "      <td>10</td>\n",
       "      <td>181550</td>\n",
       "      <td>1.543594e+09</td>\n",
       "      <td>16</td>\n",
       "      <td>30</td>\n",
       "      <td>11</td>\n",
       "      <td>8152</td>\n",
       "      <td>0</td>\n",
       "      <td>0</td>\n",
       "      <td>8</td>\n",
       "      <td>...</td>\n",
       "      <td>0.0004</td>\n",
       "      <td>1543593600</td>\n",
       "      <td>28.64</td>\n",
       "      <td>1543579200</td>\n",
       "      <td>42.32</td>\n",
       "      <td>1543600800</td>\n",
       "      <td>29.29</td>\n",
       "      <td>1543579200</td>\n",
       "      <td>40.48</td>\n",
       "      <td>1543611600</td>\n",
       "    </tr>\n",
       "    <tr>\n",
       "      <th>4</th>\n",
       "      <td>14</td>\n",
       "      <td>67474</td>\n",
       "      <td>1.544729e+09</td>\n",
       "      <td>19</td>\n",
       "      <td>13</td>\n",
       "      <td>12</td>\n",
       "      <td>18731</td>\n",
       "      <td>0</td>\n",
       "      <td>6</td>\n",
       "      <td>11</td>\n",
       "      <td>...</td>\n",
       "      <td>0.0001</td>\n",
       "      <td>1544716800</td>\n",
       "      <td>18.29</td>\n",
       "      <td>1544688000</td>\n",
       "      <td>33.83</td>\n",
       "      <td>1544731200</td>\n",
       "      <td>13.79</td>\n",
       "      <td>1544688000</td>\n",
       "      <td>32.85</td>\n",
       "      <td>1544734800</td>\n",
       "    </tr>\n",
       "  </tbody>\n",
       "</table>\n",
       "<p>5 rows × 58 columns</p>\n",
       "</div>"
      ],
      "text/plain": [
       "   Unnamed: 0      id     timestamp  hour  day  month  datetime  timezone  \\\n",
       "0           0   83667  1.544953e+09     9   16     12     25323         0   \n",
       "1           1   95698  1.543284e+09     2   27     11       960         0   \n",
       "2           8  100484  1.543818e+09     6    3     12     14499         0   \n",
       "3          10  181550  1.543594e+09    16   30     11      8152         0   \n",
       "4          14   67474  1.544729e+09    19   13     12     18731         0   \n",
       "\n",
       "   source  destination  ...  precipIntensityMax  uvIndexTime  temperatureMin  \\\n",
       "0       5            7  ...              0.1276   1544979600           39.89   \n",
       "1       5            7  ...              0.1300   1543251600           40.49   \n",
       "2       0            8  ...              0.0004   1543852800           43.09   \n",
       "3       0            8  ...              0.0004   1543593600           28.64   \n",
       "4       6           11  ...              0.0001   1544716800           18.29   \n",
       "\n",
       "   temperatureMinTime  temperatureMax  temperatureMaxTime  \\\n",
       "0          1545012000           43.68          1544968800   \n",
       "1          1543233600           47.30          1543251600   \n",
       "2          1543896000           57.02          1543852800   \n",
       "3          1543579200           42.32          1543600800   \n",
       "4          1544688000           33.83          1544731200   \n",
       "\n",
       "   apparentTemperatureMin  apparentTemperatureMinTime  apparentTemperatureMax  \\\n",
       "0                   33.73                  1545012000                   38.07   \n",
       "1                   36.20                  1543291200                   43.92   \n",
       "2                   39.90                  1543896000                   56.35   \n",
       "3                   29.29                  1543579200                   40.48   \n",
       "4                   13.79                  1544688000                   32.85   \n",
       "\n",
       "   apparentTemperatureMaxTime  \n",
       "0                  1544958000  \n",
       "1                  1543251600  \n",
       "2                  1543852800  \n",
       "3                  1543611600  \n",
       "4                  1544734800  \n",
       "\n",
       "[5 rows x 58 columns]"
      ]
     },
     "execution_count": 356,
     "metadata": {},
     "output_type": "execute_result"
    }
   ],
   "source": [
    "uber_dataset.head()"
   ]
  },
  {
   "cell_type": "markdown",
   "metadata": {
    "id": "p17aW6tHdM1c"
   },
   "source": [
    "### Filling NAN Values"
   ]
  },
  {
   "cell_type": "code",
   "execution_count": 357,
   "metadata": {
    "colab": {
     "base_uri": "https://localhost:8080/"
    },
    "id": "2eeT-9fJdM1c",
    "outputId": "ebdba671-fbd4-4e70-b738-e50669732113"
   },
   "outputs": [
    {
     "data": {
      "text/plain": [
       "Unnamed: 0                         0\n",
       "id                                 0\n",
       "timestamp                          0\n",
       "hour                               0\n",
       "day                                0\n",
       "month                              0\n",
       "datetime                           0\n",
       "timezone                           0\n",
       "source                             0\n",
       "destination                        0\n",
       "cab_type                           0\n",
       "product_id                         0\n",
       "name                               0\n",
       "price                          55095\n",
       "distance                           0\n",
       "surge_multiplier                   0\n",
       "latitude                           0\n",
       "longitude                          0\n",
       "temperature                        0\n",
       "apparentTemperature                0\n",
       "short_summary                      0\n",
       "long_summary                       0\n",
       "precipIntensity                    0\n",
       "precipProbability                  0\n",
       "humidity                           0\n",
       "windSpeed                          0\n",
       "windGust                           0\n",
       "windGustTime                       0\n",
       "visibility                         0\n",
       "temperatureHigh                    0\n",
       "temperatureHighTime                0\n",
       "temperatureLow                     0\n",
       "temperatureLowTime                 0\n",
       "apparentTemperatureHigh            0\n",
       "apparentTemperatureHighTime        0\n",
       "apparentTemperatureLow             0\n",
       "apparentTemperatureLowTime         0\n",
       "icon                               0\n",
       "dewPoint                           0\n",
       "pressure                           0\n",
       "windBearing                        0\n",
       "cloudCover                         0\n",
       "uvIndex                            0\n",
       "visibility.1                       0\n",
       "ozone                              0\n",
       "sunriseTime                        0\n",
       "sunsetTime                         0\n",
       "moonPhase                          0\n",
       "precipIntensityMax                 0\n",
       "uvIndexTime                        0\n",
       "temperatureMin                     0\n",
       "temperatureMinTime                 0\n",
       "temperatureMax                     0\n",
       "temperatureMaxTime                 0\n",
       "apparentTemperatureMin             0\n",
       "apparentTemperatureMinTime         0\n",
       "apparentTemperatureMax             0\n",
       "apparentTemperatureMaxTime         0\n",
       "dtype: int64"
      ]
     },
     "execution_count": 357,
     "metadata": {},
     "output_type": "execute_result"
    }
   ],
   "source": [
    "uber_dataset.isnull().sum()"
   ]
  },
  {
   "cell_type": "code",
   "execution_count": 358,
   "metadata": {
    "colab": {
     "base_uri": "https://localhost:8080/"
    },
    "id": "qS-MXbVKdM1c",
    "outputId": "13859e69-346c-4759-ee97-8207241af37b"
   },
   "outputs": [
    {
     "data": {
      "text/plain": [
       "10.5"
      ]
     },
     "execution_count": 358,
     "metadata": {},
     "output_type": "execute_result"
    }
   ],
   "source": [
    "uber_dataset['price'].median()"
   ]
  },
  {
   "cell_type": "code",
   "execution_count": 359,
   "metadata": {
    "id": "FA5TXwDqdM1d"
   },
   "outputs": [],
   "source": [
    "uber_dataset[\"price\"].fillna(10.5, inplace = True) "
   ]
  },
  {
   "cell_type": "code",
   "execution_count": 360,
   "metadata": {
    "colab": {
     "base_uri": "https://localhost:8080/"
    },
    "id": "mhBj24RTdM1d",
    "outputId": "0b9f7d6f-4cbb-4299-c91b-2f2e63691478"
   },
   "outputs": [
    {
     "data": {
      "text/plain": [
       "Unnamed: 0                     0\n",
       "id                             0\n",
       "timestamp                      0\n",
       "hour                           0\n",
       "day                            0\n",
       "month                          0\n",
       "datetime                       0\n",
       "timezone                       0\n",
       "source                         0\n",
       "destination                    0\n",
       "cab_type                       0\n",
       "product_id                     0\n",
       "name                           0\n",
       "price                          0\n",
       "distance                       0\n",
       "surge_multiplier               0\n",
       "latitude                       0\n",
       "longitude                      0\n",
       "temperature                    0\n",
       "apparentTemperature            0\n",
       "short_summary                  0\n",
       "long_summary                   0\n",
       "precipIntensity                0\n",
       "precipProbability              0\n",
       "humidity                       0\n",
       "windSpeed                      0\n",
       "windGust                       0\n",
       "windGustTime                   0\n",
       "visibility                     0\n",
       "temperatureHigh                0\n",
       "temperatureHighTime            0\n",
       "temperatureLow                 0\n",
       "temperatureLowTime             0\n",
       "apparentTemperatureHigh        0\n",
       "apparentTemperatureHighTime    0\n",
       "apparentTemperatureLow         0\n",
       "apparentTemperatureLowTime     0\n",
       "icon                           0\n",
       "dewPoint                       0\n",
       "pressure                       0\n",
       "windBearing                    0\n",
       "cloudCover                     0\n",
       "uvIndex                        0\n",
       "visibility.1                   0\n",
       "ozone                          0\n",
       "sunriseTime                    0\n",
       "sunsetTime                     0\n",
       "moonPhase                      0\n",
       "precipIntensityMax             0\n",
       "uvIndexTime                    0\n",
       "temperatureMin                 0\n",
       "temperatureMinTime             0\n",
       "temperatureMax                 0\n",
       "temperatureMaxTime             0\n",
       "apparentTemperatureMin         0\n",
       "apparentTemperatureMinTime     0\n",
       "apparentTemperatureMax         0\n",
       "apparentTemperatureMaxTime     0\n",
       "dtype: int64"
      ]
     },
     "execution_count": 360,
     "metadata": {},
     "output_type": "execute_result"
    }
   ],
   "source": [
    "uber_dataset.isnull().sum()"
   ]
  },
  {
   "cell_type": "code",
   "execution_count": 361,
   "metadata": {},
   "outputs": [
    {
     "data": {
      "text/plain": [
       "dtype('float64')"
      ]
     },
     "execution_count": 361,
     "metadata": {},
     "output_type": "execute_result"
    }
   ],
   "source": [
    "uber_dataset['price'].dtype"
   ]
  },
  {
   "cell_type": "code",
   "execution_count": 362,
   "metadata": {},
   "outputs": [],
   "source": [
    "uber_dataset['price'] = uber_dataset['price'].astype(int)"
   ]
  },
  {
   "cell_type": "code",
   "execution_count": 363,
   "metadata": {},
   "outputs": [
    {
     "data": {
      "text/plain": [
       "0     5\n",
       "1    11\n",
       "2     3\n",
       "3    13\n",
       "4     7\n",
       "Name: price, dtype: int32"
      ]
     },
     "execution_count": 363,
     "metadata": {},
     "output_type": "execute_result"
    }
   ],
   "source": [
    "uber_dataset['price'].head()"
   ]
  },
  {
   "cell_type": "markdown",
   "metadata": {
    "id": "U5UVpEBndM1d"
   },
   "source": [
    "### RFE (Recursive Feature Elimination)"
   ]
  },
  {
   "cell_type": "code",
   "execution_count": 364,
   "metadata": {
    "id": "phS20dKJdM1d"
   },
   "outputs": [],
   "source": [
    "import numpy as np\n",
    "from sklearn.feature_selection import SelectKBest\n",
    "from sklearn.feature_selection import chi2"
   ]
  },
  {
   "cell_type": "code",
   "execution_count": 365,
   "metadata": {
    "id": "1Yq3zRhydM1d"
   },
   "outputs": [],
   "source": [
    "from sklearn.model_selection import train_test_split\n",
    "from sklearn.metrics import accuracy_score"
   ]
  },
  {
   "cell_type": "code",
   "execution_count": 366,
   "metadata": {
    "id": "VijCz7WxdM1d"
   },
   "outputs": [],
   "source": [
    "from sklearn.linear_model import LinearRegression\n",
    "from sklearn.linear_model import LogisticRegression\n",
    "from sklearn.tree import DecisionTreeRegressor\n",
    "from sklearn.ensemble import RandomForestRegressor"
   ]
  },
  {
   "cell_type": "code",
   "execution_count": 367,
   "metadata": {
    "id": "MFRqNu2hdM1k"
   },
   "outputs": [],
   "source": [
    "from sklearn.feature_selection import RFE"
   ]
  },
  {
   "cell_type": "code",
   "execution_count": 368,
   "metadata": {
    "id": "PKmO97t6dM1d"
   },
   "outputs": [],
   "source": [
    "X = uber_dataset.drop('price', axis = 1)\n",
    "y = uber_dataset['price']"
   ]
  },
  {
   "cell_type": "code",
   "execution_count": 369,
   "metadata": {
    "colab": {
     "base_uri": "https://localhost:8080/",
     "height": 422
    },
    "id": "ggSQPNlFdM1e",
    "outputId": "2f81fddb-9826-43f2-daee-0bd306516970"
   },
   "outputs": [
    {
     "data": {
      "text/html": [
       "<div>\n",
       "<style scoped>\n",
       "    .dataframe tbody tr th:only-of-type {\n",
       "        vertical-align: middle;\n",
       "    }\n",
       "\n",
       "    .dataframe tbody tr th {\n",
       "        vertical-align: top;\n",
       "    }\n",
       "\n",
       "    .dataframe thead th {\n",
       "        text-align: right;\n",
       "    }\n",
       "</style>\n",
       "<table border=\"1\" class=\"dataframe\">\n",
       "  <thead>\n",
       "    <tr style=\"text-align: right;\">\n",
       "      <th></th>\n",
       "      <th>Unnamed: 0</th>\n",
       "      <th>id</th>\n",
       "      <th>timestamp</th>\n",
       "      <th>hour</th>\n",
       "      <th>day</th>\n",
       "      <th>month</th>\n",
       "      <th>datetime</th>\n",
       "      <th>timezone</th>\n",
       "      <th>source</th>\n",
       "      <th>destination</th>\n",
       "      <th>...</th>\n",
       "      <th>precipIntensityMax</th>\n",
       "      <th>uvIndexTime</th>\n",
       "      <th>temperatureMin</th>\n",
       "      <th>temperatureMinTime</th>\n",
       "      <th>temperatureMax</th>\n",
       "      <th>temperatureMaxTime</th>\n",
       "      <th>apparentTemperatureMin</th>\n",
       "      <th>apparentTemperatureMinTime</th>\n",
       "      <th>apparentTemperatureMax</th>\n",
       "      <th>apparentTemperatureMaxTime</th>\n",
       "    </tr>\n",
       "  </thead>\n",
       "  <tbody>\n",
       "    <tr>\n",
       "      <th>0</th>\n",
       "      <td>0</td>\n",
       "      <td>83667</td>\n",
       "      <td>1.544953e+09</td>\n",
       "      <td>9</td>\n",
       "      <td>16</td>\n",
       "      <td>12</td>\n",
       "      <td>25323</td>\n",
       "      <td>0</td>\n",
       "      <td>5</td>\n",
       "      <td>7</td>\n",
       "      <td>...</td>\n",
       "      <td>0.1276</td>\n",
       "      <td>1544979600</td>\n",
       "      <td>39.89</td>\n",
       "      <td>1545012000</td>\n",
       "      <td>43.68</td>\n",
       "      <td>1544968800</td>\n",
       "      <td>33.73</td>\n",
       "      <td>1545012000</td>\n",
       "      <td>38.07</td>\n",
       "      <td>1544958000</td>\n",
       "    </tr>\n",
       "    <tr>\n",
       "      <th>1</th>\n",
       "      <td>1</td>\n",
       "      <td>95698</td>\n",
       "      <td>1.543284e+09</td>\n",
       "      <td>2</td>\n",
       "      <td>27</td>\n",
       "      <td>11</td>\n",
       "      <td>960</td>\n",
       "      <td>0</td>\n",
       "      <td>5</td>\n",
       "      <td>7</td>\n",
       "      <td>...</td>\n",
       "      <td>0.1300</td>\n",
       "      <td>1543251600</td>\n",
       "      <td>40.49</td>\n",
       "      <td>1543233600</td>\n",
       "      <td>47.30</td>\n",
       "      <td>1543251600</td>\n",
       "      <td>36.20</td>\n",
       "      <td>1543291200</td>\n",
       "      <td>43.92</td>\n",
       "      <td>1543251600</td>\n",
       "    </tr>\n",
       "    <tr>\n",
       "      <th>2</th>\n",
       "      <td>8</td>\n",
       "      <td>100484</td>\n",
       "      <td>1.543818e+09</td>\n",
       "      <td>6</td>\n",
       "      <td>3</td>\n",
       "      <td>12</td>\n",
       "      <td>14499</td>\n",
       "      <td>0</td>\n",
       "      <td>0</td>\n",
       "      <td>8</td>\n",
       "      <td>...</td>\n",
       "      <td>0.0004</td>\n",
       "      <td>1543852800</td>\n",
       "      <td>43.09</td>\n",
       "      <td>1543896000</td>\n",
       "      <td>57.02</td>\n",
       "      <td>1543852800</td>\n",
       "      <td>39.90</td>\n",
       "      <td>1543896000</td>\n",
       "      <td>56.35</td>\n",
       "      <td>1543852800</td>\n",
       "    </tr>\n",
       "    <tr>\n",
       "      <th>3</th>\n",
       "      <td>10</td>\n",
       "      <td>181550</td>\n",
       "      <td>1.543594e+09</td>\n",
       "      <td>16</td>\n",
       "      <td>30</td>\n",
       "      <td>11</td>\n",
       "      <td>8152</td>\n",
       "      <td>0</td>\n",
       "      <td>0</td>\n",
       "      <td>8</td>\n",
       "      <td>...</td>\n",
       "      <td>0.0004</td>\n",
       "      <td>1543593600</td>\n",
       "      <td>28.64</td>\n",
       "      <td>1543579200</td>\n",
       "      <td>42.32</td>\n",
       "      <td>1543600800</td>\n",
       "      <td>29.29</td>\n",
       "      <td>1543579200</td>\n",
       "      <td>40.48</td>\n",
       "      <td>1543611600</td>\n",
       "    </tr>\n",
       "    <tr>\n",
       "      <th>4</th>\n",
       "      <td>14</td>\n",
       "      <td>67474</td>\n",
       "      <td>1.544729e+09</td>\n",
       "      <td>19</td>\n",
       "      <td>13</td>\n",
       "      <td>12</td>\n",
       "      <td>18731</td>\n",
       "      <td>0</td>\n",
       "      <td>6</td>\n",
       "      <td>11</td>\n",
       "      <td>...</td>\n",
       "      <td>0.0001</td>\n",
       "      <td>1544716800</td>\n",
       "      <td>18.29</td>\n",
       "      <td>1544688000</td>\n",
       "      <td>33.83</td>\n",
       "      <td>1544731200</td>\n",
       "      <td>13.79</td>\n",
       "      <td>1544688000</td>\n",
       "      <td>32.85</td>\n",
       "      <td>1544734800</td>\n",
       "    </tr>\n",
       "  </tbody>\n",
       "</table>\n",
       "<p>5 rows × 57 columns</p>\n",
       "</div>"
      ],
      "text/plain": [
       "   Unnamed: 0      id     timestamp  hour  day  month  datetime  timezone  \\\n",
       "0           0   83667  1.544953e+09     9   16     12     25323         0   \n",
       "1           1   95698  1.543284e+09     2   27     11       960         0   \n",
       "2           8  100484  1.543818e+09     6    3     12     14499         0   \n",
       "3          10  181550  1.543594e+09    16   30     11      8152         0   \n",
       "4          14   67474  1.544729e+09    19   13     12     18731         0   \n",
       "\n",
       "   source  destination  ...  precipIntensityMax  uvIndexTime  temperatureMin  \\\n",
       "0       5            7  ...              0.1276   1544979600           39.89   \n",
       "1       5            7  ...              0.1300   1543251600           40.49   \n",
       "2       0            8  ...              0.0004   1543852800           43.09   \n",
       "3       0            8  ...              0.0004   1543593600           28.64   \n",
       "4       6           11  ...              0.0001   1544716800           18.29   \n",
       "\n",
       "   temperatureMinTime  temperatureMax  temperatureMaxTime  \\\n",
       "0          1545012000           43.68          1544968800   \n",
       "1          1543233600           47.30          1543251600   \n",
       "2          1543896000           57.02          1543852800   \n",
       "3          1543579200           42.32          1543600800   \n",
       "4          1544688000           33.83          1544731200   \n",
       "\n",
       "   apparentTemperatureMin  apparentTemperatureMinTime  apparentTemperatureMax  \\\n",
       "0                   33.73                  1545012000                   38.07   \n",
       "1                   36.20                  1543291200                   43.92   \n",
       "2                   39.90                  1543896000                   56.35   \n",
       "3                   29.29                  1543579200                   40.48   \n",
       "4                   13.79                  1544688000                   32.85   \n",
       "\n",
       "   apparentTemperatureMaxTime  \n",
       "0                  1544958000  \n",
       "1                  1543251600  \n",
       "2                  1543852800  \n",
       "3                  1543611600  \n",
       "4                  1544734800  \n",
       "\n",
       "[5 rows x 57 columns]"
      ]
     },
     "execution_count": 369,
     "metadata": {},
     "output_type": "execute_result"
    }
   ],
   "source": [
    "X.head()"
   ]
  },
  {
   "cell_type": "code",
   "execution_count": 370,
   "metadata": {
    "colab": {
     "base_uri": "https://localhost:8080/"
    },
    "id": "fGI0HiS7dM1e",
    "outputId": "078dba9d-23af-4867-9433-3aef975707a3"
   },
   "outputs": [
    {
     "data": {
      "text/plain": [
       "0     5\n",
       "1    11\n",
       "2     3\n",
       "3    13\n",
       "4     7\n",
       "Name: price, dtype: int32"
      ]
     },
     "execution_count": 370,
     "metadata": {},
     "output_type": "execute_result"
    }
   ],
   "source": [
    "y.head()"
   ]
  },
  {
   "cell_type": "code",
   "execution_count": 371,
   "metadata": {
    "colab": {
     "base_uri": "https://localhost:8080/"
    },
    "id": "USgYIlhUdM1e",
    "outputId": "34e5f7ac-dc83-4ca8-bc7a-762a1861742f"
   },
   "outputs": [
    {
     "data": {
      "text/plain": [
       "(322844, 57)"
      ]
     },
     "execution_count": 371,
     "metadata": {},
     "output_type": "execute_result"
    }
   ],
   "source": [
    "X.shape"
   ]
  },
  {
   "cell_type": "code",
   "execution_count": 372,
   "metadata": {
    "colab": {
     "base_uri": "https://localhost:8080/"
    },
    "id": "iaHGgGuRdM1e",
    "outputId": "12f00315-7b5d-4eca-e4b8-42080357981a"
   },
   "outputs": [
    {
     "data": {
      "text/plain": [
       "(322844,)"
      ]
     },
     "execution_count": 372,
     "metadata": {},
     "output_type": "execute_result"
    }
   ],
   "source": [
    "y.shape"
   ]
  },
  {
   "cell_type": "code",
   "execution_count": 373,
   "metadata": {
    "colab": {
     "base_uri": "https://localhost:8080/",
     "height": 426
    },
    "id": "fb_OfkjxdM1f",
    "outputId": "4ed0eee7-fe13-4aed-afe8-7dd888733bd6"
   },
   "outputs": [
    {
     "data": {
      "text/plain": [
       "<AxesSubplot:>"
      ]
     },
     "execution_count": 373,
     "metadata": {},
     "output_type": "execute_result"
    },
    {
     "data": {
      "image/png": "[encoded data removed]",
      "text/plain": [
       "<Figure size 2160x576 with 1 Axes>"
      ]
     },
     "metadata": {
      "needs_background": "light"
     },
     "output_type": "display_data"
    }
   ],
   "source": [
    "y.value_counts().plot(kind='bar',figsize=(30,8),color='red')"
   ]
  },
  {
   "cell_type": "markdown",
   "metadata": {
    "id": "VnOoeBJBdM1h"
   },
   "source": [
    "#### Training accuracy in 56 features"
   ]
  },
  {
   "cell_type": "code",
   "execution_count": 374,
   "metadata": {
    "id": "8jbdiPe6dM1h"
   },
   "outputs": [],
   "source": [
    "X_train, X_test, y_train, y_test = train_test_split(X, y, test_size = 0.2, random_state = 42)"
   ]
  },
  {
   "cell_type": "code",
   "execution_count": 375,
   "metadata": {
    "colab": {
     "base_uri": "https://localhost:8080/"
    },
    "id": "ZUBi6xh2dM1i",
    "outputId": "70c00aa2-7923-4b89-aabb-bb5ef98fe14d"
   },
   "outputs": [
    {
     "data": {
      "text/plain": [
       "(258275, 57)"
      ]
     },
     "execution_count": 375,
     "metadata": {},
     "output_type": "execute_result"
    }
   ],
   "source": [
    "X_train.shape"
   ]
  },
  {
   "cell_type": "code",
   "execution_count": 376,
   "metadata": {
    "colab": {
     "base_uri": "https://localhost:8080/"
    },
    "id": "HPf6X636dM1i",
    "outputId": "7bae348e-82f1-494b-ea51-23ae6ce48533"
   },
   "outputs": [
    {
     "data": {
      "text/plain": [
       "(64569, 57)"
      ]
     },
     "execution_count": 376,
     "metadata": {},
     "output_type": "execute_result"
    }
   ],
   "source": [
    "X_test.shape"
   ]
  },
  {
   "cell_type": "code",
   "execution_count": 377,
   "metadata": {
    "colab": {
     "base_uri": "https://localhost:8080/"
    },
    "id": "PXsH6kstdM1i",
    "outputId": "d5726e98-f787-4730-e7e4-5eb33a5f9bc8"
   },
   "outputs": [
    {
     "data": {
      "text/plain": [
       "(258275,)"
      ]
     },
     "execution_count": 377,
     "metadata": {},
     "output_type": "execute_result"
    }
   ],
   "source": [
    "y_train.shape"
   ]
  },
  {
   "cell_type": "code",
   "execution_count": 378,
   "metadata": {
    "colab": {
     "base_uri": "https://localhost:8080/"
    },
    "id": "z6PjvSAodM1i",
    "outputId": "3a761646-07e9-444b-dff2-eee73f827724"
   },
   "outputs": [
    {
     "data": {
      "text/plain": [
       "(64569,)"
      ]
     },
     "execution_count": 378,
     "metadata": {},
     "output_type": "execute_result"
    }
   ],
   "source": [
    "y_test.shape"
   ]
  },
  {
   "cell_type": "code",
   "execution_count": 379,
   "metadata": {
    "id": "QDXhk-s4dM1j"
   },
   "outputs": [],
   "source": [
    "#Creating model\n",
    "reg = LinearRegression()\n",
    "#Fitting training data\n",
    "reg = reg.fit(X_train, y_train)"
   ]
  },
  {
   "cell_type": "code",
   "execution_count": 380,
   "metadata": {
    "colab": {
     "base_uri": "https://localhost:8080/"
    },
    "id": "emmuRAZXuaUe",
    "outputId": "8b8cb52b-295b-4adb-9047-ba50fbb4b29a"
   },
   "outputs": [
    {
     "data": {
      "text/plain": [
       "0.8324483467046033"
      ]
     },
     "execution_count": 380,
     "metadata": {},
     "output_type": "execute_result"
    }
   ],
   "source": [
    "reg.score(X_train, y_train)"
   ]
  },
  {
   "cell_type": "markdown",
   "metadata": {
    "id": "NQfX7mOJdM1k"
   },
   "source": [
    "#### Training accuracy in 40 features"
   ]
  },
  {
   "cell_type": "code",
   "execution_count": 381,
   "metadata": {
    "colab": {
     "base_uri": "https://localhost:8080/"
    },
    "id": "PwJBW2TSdM1k",
    "outputId": "422fd599-5a54-4a6b-c843-8c6c2e95d2d9"
   },
   "outputs": [
    {
     "name": "stdout",
     "output_type": "stream",
     "text": [
      "Fitting estimator with 57 features.\n",
      "Fitting estimator with 56 features.\n",
      "Fitting estimator with 55 features.\n",
      "Fitting estimator with 54 features.\n",
      "Fitting estimator with 53 features.\n",
      "Fitting estimator with 52 features.\n",
      "Fitting estimator with 51 features.\n",
      "Fitting estimator with 50 features.\n",
      "Fitting estimator with 49 features.\n",
      "Fitting estimator with 48 features.\n",
      "Fitting estimator with 47 features.\n",
      "Fitting estimator with 46 features.\n",
      "Fitting estimator with 45 features.\n",
      "Fitting estimator with 44 features.\n",
      "Fitting estimator with 43 features.\n",
      "Fitting estimator with 42 features.\n",
      "Fitting estimator with 41 features.\n",
      "Fitting estimator with 40 features.\n",
      "Fitting estimator with 39 features.\n",
      "Fitting estimator with 38 features.\n",
      "Fitting estimator with 37 features.\n",
      "Fitting estimator with 36 features.\n",
      "Fitting estimator with 35 features.\n",
      "Fitting estimator with 34 features.\n",
      "Fitting estimator with 33 features.\n",
      "Fitting estimator with 32 features.\n",
      "Fitting estimator with 31 features.\n",
      "Fitting estimator with 30 features.\n",
      "Fitting estimator with 29 features.\n"
     ]
    }
   ],
   "source": [
    "rfe = RFE(reg,verbose=1)\n",
    "rfe = rfe.fit(X, y)"
   ]
  },
  {
   "cell_type": "code",
   "execution_count": 382,
   "metadata": {
    "colab": {
     "base_uri": "https://localhost:8080/"
    },
    "id": "iAmcmLvbdM1l",
    "outputId": "75f6b5bc-71d9-4709-99d1-9632d43dfd33"
   },
   "outputs": [
    {
     "data": {
      "text/plain": [
       "array([False, False, False, False, False,  True, False, False,  True,\n",
       "        True,  True,  True,  True,  True,  True,  True,  True,  True,\n",
       "        True, False,  True,  True, False,  True,  True,  True, False,\n",
       "       False,  True, False, False, False,  True, False, False, False,\n",
       "        True,  True, False, False,  True, False, False, False, False,\n",
       "       False,  True,  True, False,  True, False,  True, False,  True,\n",
       "       False,  True, False])"
      ]
     },
     "execution_count": 382,
     "metadata": {},
     "output_type": "execute_result"
    }
   ],
   "source": [
    "rfe.support_"
   ]
  },
  {
   "cell_type": "code",
   "execution_count": 383,
   "metadata": {
    "id": "OCLPpCOJdM1l"
   },
   "outputs": [],
   "source": [
    "X = X[X.columns[rfe.support_]]"
   ]
  },
  {
   "cell_type": "code",
   "execution_count": 384,
   "metadata": {
    "colab": {
     "base_uri": "https://localhost:8080/",
     "height": 215
    },
    "id": "3aj1xRtHdM1l",
    "outputId": "ac089cc8-84f5-4e54-a98c-2cf276515f12"
   },
   "outputs": [
    {
     "data": {
      "text/html": [
       "<div>\n",
       "<style scoped>\n",
       "    .dataframe tbody tr th:only-of-type {\n",
       "        vertical-align: middle;\n",
       "    }\n",
       "\n",
       "    .dataframe tbody tr th {\n",
       "        vertical-align: top;\n",
       "    }\n",
       "\n",
       "    .dataframe thead th {\n",
       "        text-align: right;\n",
       "    }\n",
       "</style>\n",
       "<table border=\"1\" class=\"dataframe\">\n",
       "  <thead>\n",
       "    <tr style=\"text-align: right;\">\n",
       "      <th></th>\n",
       "      <th>month</th>\n",
       "      <th>source</th>\n",
       "      <th>destination</th>\n",
       "      <th>cab_type</th>\n",
       "      <th>product_id</th>\n",
       "      <th>name</th>\n",
       "      <th>distance</th>\n",
       "      <th>surge_multiplier</th>\n",
       "      <th>latitude</th>\n",
       "      <th>longitude</th>\n",
       "      <th>...</th>\n",
       "      <th>apparentTemperatureHigh</th>\n",
       "      <th>icon</th>\n",
       "      <th>dewPoint</th>\n",
       "      <th>cloudCover</th>\n",
       "      <th>moonPhase</th>\n",
       "      <th>precipIntensityMax</th>\n",
       "      <th>temperatureMin</th>\n",
       "      <th>temperatureMax</th>\n",
       "      <th>apparentTemperatureMin</th>\n",
       "      <th>apparentTemperatureMax</th>\n",
       "    </tr>\n",
       "  </thead>\n",
       "  <tbody>\n",
       "    <tr>\n",
       "      <th>0</th>\n",
       "      <td>12</td>\n",
       "      <td>5</td>\n",
       "      <td>7</td>\n",
       "      <td>0</td>\n",
       "      <td>4</td>\n",
       "      <td>2</td>\n",
       "      <td>0.44</td>\n",
       "      <td>1.0</td>\n",
       "      <td>42.2148</td>\n",
       "      <td>-71.0330</td>\n",
       "      <td>...</td>\n",
       "      <td>37.95</td>\n",
       "      <td>5</td>\n",
       "      <td>32.70</td>\n",
       "      <td>0.72</td>\n",
       "      <td>0.30</td>\n",
       "      <td>0.1276</td>\n",
       "      <td>39.89</td>\n",
       "      <td>43.68</td>\n",
       "      <td>33.73</td>\n",
       "      <td>38.07</td>\n",
       "    </tr>\n",
       "    <tr>\n",
       "      <th>1</th>\n",
       "      <td>11</td>\n",
       "      <td>5</td>\n",
       "      <td>7</td>\n",
       "      <td>0</td>\n",
       "      <td>5</td>\n",
       "      <td>1</td>\n",
       "      <td>0.44</td>\n",
       "      <td>1.0</td>\n",
       "      <td>42.2148</td>\n",
       "      <td>-71.0330</td>\n",
       "      <td>...</td>\n",
       "      <td>43.92</td>\n",
       "      <td>6</td>\n",
       "      <td>41.83</td>\n",
       "      <td>1.00</td>\n",
       "      <td>0.64</td>\n",
       "      <td>0.1300</td>\n",
       "      <td>40.49</td>\n",
       "      <td>47.30</td>\n",
       "      <td>36.20</td>\n",
       "      <td>43.92</td>\n",
       "    </tr>\n",
       "    <tr>\n",
       "      <th>2</th>\n",
       "      <td>12</td>\n",
       "      <td>0</td>\n",
       "      <td>8</td>\n",
       "      <td>0</td>\n",
       "      <td>4</td>\n",
       "      <td>2</td>\n",
       "      <td>1.08</td>\n",
       "      <td>1.0</td>\n",
       "      <td>42.3503</td>\n",
       "      <td>-71.0810</td>\n",
       "      <td>...</td>\n",
       "      <td>56.35</td>\n",
       "      <td>3</td>\n",
       "      <td>44.50</td>\n",
       "      <td>1.00</td>\n",
       "      <td>0.89</td>\n",
       "      <td>0.0004</td>\n",
       "      <td>43.09</td>\n",
       "      <td>57.02</td>\n",
       "      <td>39.90</td>\n",
       "      <td>56.35</td>\n",
       "    </tr>\n",
       "    <tr>\n",
       "      <th>3</th>\n",
       "      <td>11</td>\n",
       "      <td>0</td>\n",
       "      <td>8</td>\n",
       "      <td>0</td>\n",
       "      <td>5</td>\n",
       "      <td>1</td>\n",
       "      <td>1.08</td>\n",
       "      <td>1.0</td>\n",
       "      <td>42.3503</td>\n",
       "      <td>-71.0810</td>\n",
       "      <td>...</td>\n",
       "      <td>40.48</td>\n",
       "      <td>0</td>\n",
       "      <td>27.99</td>\n",
       "      <td>0.12</td>\n",
       "      <td>0.79</td>\n",
       "      <td>0.0004</td>\n",
       "      <td>28.64</td>\n",
       "      <td>42.32</td>\n",
       "      <td>29.29</td>\n",
       "      <td>40.48</td>\n",
       "    </tr>\n",
       "    <tr>\n",
       "      <th>4</th>\n",
       "      <td>12</td>\n",
       "      <td>6</td>\n",
       "      <td>11</td>\n",
       "      <td>1</td>\n",
       "      <td>0</td>\n",
       "      <td>5</td>\n",
       "      <td>1.11</td>\n",
       "      <td>1.0</td>\n",
       "      <td>42.3647</td>\n",
       "      <td>-71.0542</td>\n",
       "      <td>...</td>\n",
       "      <td>32.85</td>\n",
       "      <td>4</td>\n",
       "      <td>18.66</td>\n",
       "      <td>0.64</td>\n",
       "      <td>0.21</td>\n",
       "      <td>0.0001</td>\n",
       "      <td>18.29</td>\n",
       "      <td>33.83</td>\n",
       "      <td>13.79</td>\n",
       "      <td>32.85</td>\n",
       "    </tr>\n",
       "  </tbody>\n",
       "</table>\n",
       "<p>5 rows × 28 columns</p>\n",
       "</div>"
      ],
      "text/plain": [
       "   month  source  destination  cab_type  product_id  name  distance  \\\n",
       "0     12       5            7         0           4     2      0.44   \n",
       "1     11       5            7         0           5     1      0.44   \n",
       "2     12       0            8         0           4     2      1.08   \n",
       "3     11       0            8         0           5     1      1.08   \n",
       "4     12       6           11         1           0     5      1.11   \n",
       "\n",
       "   surge_multiplier  latitude  longitude  ...  apparentTemperatureHigh  icon  \\\n",
       "0               1.0   42.2148   -71.0330  ...                    37.95     5   \n",
       "1               1.0   42.2148   -71.0330  ...                    43.92     6   \n",
       "2               1.0   42.3503   -71.0810  ...                    56.35     3   \n",
       "3               1.0   42.3503   -71.0810  ...                    40.48     0   \n",
       "4               1.0   42.3647   -71.0542  ...                    32.85     4   \n",
       "\n",
       "   dewPoint  cloudCover  moonPhase  precipIntensityMax  temperatureMin  \\\n",
       "0     32.70        0.72       0.30              0.1276           39.89   \n",
       "1     41.83        1.00       0.64              0.1300           40.49   \n",
       "2     44.50        1.00       0.89              0.0004           43.09   \n",
       "3     27.99        0.12       0.79              0.0004           28.64   \n",
       "4     18.66        0.64       0.21              0.0001           18.29   \n",
       "\n",
       "   temperatureMax  apparentTemperatureMin  apparentTemperatureMax  \n",
       "0           43.68                   33.73                   38.07  \n",
       "1           47.30                   36.20                   43.92  \n",
       "2           57.02                   39.90                   56.35  \n",
       "3           42.32                   29.29                   40.48  \n",
       "4           33.83                   13.79                   32.85  \n",
       "\n",
       "[5 rows x 28 columns]"
      ]
     },
     "execution_count": 384,
     "metadata": {},
     "output_type": "execute_result"
    }
   ],
   "source": [
    "X.head()"
   ]
  },
  {
   "cell_type": "code",
   "execution_count": 385,
   "metadata": {
    "id": "c2kjryu8dM1m"
   },
   "outputs": [],
   "source": [
    "X_train, X_test, y_train, y_test = train_test_split(X, y, test_size = 0.3, random_state = 10)"
   ]
  },
  {
   "cell_type": "code",
   "execution_count": 386,
   "metadata": {
    "colab": {
     "base_uri": "https://localhost:8080/"
    },
    "id": "UuoCsIBedM1m",
    "outputId": "fcaf0214-08ce-40aa-9630-951010c47453"
   },
   "outputs": [
    {
     "data": {
      "text/plain": [
       "(225990, 28)"
      ]
     },
     "execution_count": 386,
     "metadata": {},
     "output_type": "execute_result"
    }
   ],
   "source": [
    "X_train.shape"
   ]
  },
  {
   "cell_type": "code",
   "execution_count": 387,
   "metadata": {
    "id": "bGrDwcGGdM1n"
   },
   "outputs": [],
   "source": [
    "#Creating model\n",
    "reg1 = LinearRegression()\n",
    "#Fitting training data\n",
    "reg1 = reg1.fit(X_train, y_train)"
   ]
  },
  {
   "cell_type": "code",
   "execution_count": 388,
   "metadata": {
    "colab": {
     "base_uri": "https://localhost:8080/"
    },
    "id": "7FBGsIIHuzQN",
    "outputId": "32071a61-ed39-45b1-f04c-d8fd236074e7"
   },
   "outputs": [
    {
     "data": {
      "text/plain": [
       "0.8317417949954677"
      ]
     },
     "execution_count": 388,
     "metadata": {},
     "output_type": "execute_result"
    }
   ],
   "source": [
    "reg1.score(X_train, y_train)"
   ]
  },
  {
   "cell_type": "markdown",
   "metadata": {
    "id": "Mh22ZUP-dM1q"
   },
   "source": [
    "#### Training accuracy in 15 features"
   ]
  },
  {
   "cell_type": "code",
   "execution_count": 389,
   "metadata": {
    "colab": {
     "base_uri": "https://localhost:8080/"
    },
    "id": "vYWk7nzQdM1q",
    "outputId": "78f77ee1-d3fa-44b4-88de-5df5632be224"
   },
   "outputs": [
    {
     "name": "stdout",
     "output_type": "stream",
     "text": [
      "Fitting estimator with 28 features.\n",
      "Fitting estimator with 27 features.\n",
      "Fitting estimator with 26 features.\n",
      "Fitting estimator with 25 features.\n",
      "Fitting estimator with 24 features.\n",
      "Fitting estimator with 23 features.\n",
      "Fitting estimator with 22 features.\n",
      "Fitting estimator with 21 features.\n",
      "Fitting estimator with 20 features.\n",
      "Fitting estimator with 19 features.\n",
      "Fitting estimator with 18 features.\n",
      "Fitting estimator with 17 features.\n",
      "Fitting estimator with 16 features.\n",
      "Fitting estimator with 15 features.\n"
     ]
    }
   ],
   "source": [
    "rfe = RFE(reg,verbose=1)\n",
    "rfe = rfe.fit(X, y)"
   ]
  },
  {
   "cell_type": "code",
   "execution_count": 390,
   "metadata": {
    "id": "m8ui7o4RdM1r"
   },
   "outputs": [],
   "source": [
    "XX = X[X.columns[rfe.support_]]"
   ]
  },
  {
   "cell_type": "code",
   "execution_count": 391,
   "metadata": {
    "colab": {
     "base_uri": "https://localhost:8080/",
     "height": 215
    },
    "id": "DhzD1Ef4dM1r",
    "outputId": "ca44d44f-1300-4e46-bfed-2e34010833ce"
   },
   "outputs": [
    {
     "data": {
      "text/html": [
       "<div>\n",
       "<style scoped>\n",
       "    .dataframe tbody tr th:only-of-type {\n",
       "        vertical-align: middle;\n",
       "    }\n",
       "\n",
       "    .dataframe tbody tr th {\n",
       "        vertical-align: top;\n",
       "    }\n",
       "\n",
       "    .dataframe thead th {\n",
       "        text-align: right;\n",
       "    }\n",
       "</style>\n",
       "<table border=\"1\" class=\"dataframe\">\n",
       "  <thead>\n",
       "    <tr style=\"text-align: right;\">\n",
       "      <th></th>\n",
       "      <th>cab_type</th>\n",
       "      <th>product_id</th>\n",
       "      <th>name</th>\n",
       "      <th>distance</th>\n",
       "      <th>surge_multiplier</th>\n",
       "      <th>latitude</th>\n",
       "      <th>longitude</th>\n",
       "      <th>precipIntensity</th>\n",
       "      <th>humidity</th>\n",
       "      <th>temperatureHigh</th>\n",
       "      <th>apparentTemperatureHigh</th>\n",
       "      <th>precipIntensityMax</th>\n",
       "      <th>temperatureMax</th>\n",
       "      <th>apparentTemperatureMax</th>\n",
       "    </tr>\n",
       "  </thead>\n",
       "  <tbody>\n",
       "    <tr>\n",
       "      <th>0</th>\n",
       "      <td>0</td>\n",
       "      <td>4</td>\n",
       "      <td>2</td>\n",
       "      <td>0.44</td>\n",
       "      <td>1.0</td>\n",
       "      <td>42.2148</td>\n",
       "      <td>-71.0330</td>\n",
       "      <td>0.0000</td>\n",
       "      <td>0.68</td>\n",
       "      <td>43.68</td>\n",
       "      <td>37.95</td>\n",
       "      <td>0.1276</td>\n",
       "      <td>43.68</td>\n",
       "      <td>38.07</td>\n",
       "    </tr>\n",
       "    <tr>\n",
       "      <th>1</th>\n",
       "      <td>0</td>\n",
       "      <td>5</td>\n",
       "      <td>1</td>\n",
       "      <td>0.44</td>\n",
       "      <td>1.0</td>\n",
       "      <td>42.2148</td>\n",
       "      <td>-71.0330</td>\n",
       "      <td>0.1299</td>\n",
       "      <td>0.94</td>\n",
       "      <td>47.30</td>\n",
       "      <td>43.92</td>\n",
       "      <td>0.1300</td>\n",
       "      <td>47.30</td>\n",
       "      <td>43.92</td>\n",
       "    </tr>\n",
       "    <tr>\n",
       "      <th>2</th>\n",
       "      <td>0</td>\n",
       "      <td>4</td>\n",
       "      <td>2</td>\n",
       "      <td>1.08</td>\n",
       "      <td>1.0</td>\n",
       "      <td>42.3503</td>\n",
       "      <td>-71.0810</td>\n",
       "      <td>0.0000</td>\n",
       "      <td>0.96</td>\n",
       "      <td>57.02</td>\n",
       "      <td>56.35</td>\n",
       "      <td>0.0004</td>\n",
       "      <td>57.02</td>\n",
       "      <td>56.35</td>\n",
       "    </tr>\n",
       "    <tr>\n",
       "      <th>3</th>\n",
       "      <td>0</td>\n",
       "      <td>5</td>\n",
       "      <td>1</td>\n",
       "      <td>1.08</td>\n",
       "      <td>1.0</td>\n",
       "      <td>42.3503</td>\n",
       "      <td>-71.0810</td>\n",
       "      <td>0.0000</td>\n",
       "      <td>0.62</td>\n",
       "      <td>42.32</td>\n",
       "      <td>40.48</td>\n",
       "      <td>0.0004</td>\n",
       "      <td>42.32</td>\n",
       "      <td>40.48</td>\n",
       "    </tr>\n",
       "    <tr>\n",
       "      <th>4</th>\n",
       "      <td>1</td>\n",
       "      <td>0</td>\n",
       "      <td>5</td>\n",
       "      <td>1.11</td>\n",
       "      <td>1.0</td>\n",
       "      <td>42.3647</td>\n",
       "      <td>-71.0542</td>\n",
       "      <td>0.0000</td>\n",
       "      <td>0.56</td>\n",
       "      <td>33.83</td>\n",
       "      <td>32.85</td>\n",
       "      <td>0.0001</td>\n",
       "      <td>33.83</td>\n",
       "      <td>32.85</td>\n",
       "    </tr>\n",
       "  </tbody>\n",
       "</table>\n",
       "</div>"
      ],
      "text/plain": [
       "   cab_type  product_id  name  distance  surge_multiplier  latitude  \\\n",
       "0         0           4     2      0.44               1.0   42.2148   \n",
       "1         0           5     1      0.44               1.0   42.2148   \n",
       "2         0           4     2      1.08               1.0   42.3503   \n",
       "3         0           5     1      1.08               1.0   42.3503   \n",
       "4         1           0     5      1.11               1.0   42.3647   \n",
       "\n",
       "   longitude  precipIntensity  humidity  temperatureHigh  \\\n",
       "0   -71.0330           0.0000      0.68            43.68   \n",
       "1   -71.0330           0.1299      0.94            47.30   \n",
       "2   -71.0810           0.0000      0.96            57.02   \n",
       "3   -71.0810           0.0000      0.62            42.32   \n",
       "4   -71.0542           0.0000      0.56            33.83   \n",
       "\n",
       "   apparentTemperatureHigh  precipIntensityMax  temperatureMax  \\\n",
       "0                    37.95              0.1276           43.68   \n",
       "1                    43.92              0.1300           47.30   \n",
       "2                    56.35              0.0004           57.02   \n",
       "3                    40.48              0.0004           42.32   \n",
       "4                    32.85              0.0001           33.83   \n",
       "\n",
       "   apparentTemperatureMax  \n",
       "0                   38.07  \n",
       "1                   43.92  \n",
       "2                   56.35  \n",
       "3                   40.48  \n",
       "4                   32.85  "
      ]
     },
     "execution_count": 391,
     "metadata": {},
     "output_type": "execute_result"
    }
   ],
   "source": [
    "XX.head()"
   ]
  },
  {
   "cell_type": "code",
   "execution_count": 392,
   "metadata": {
    "id": "ae9WHnCjdM1s"
   },
   "outputs": [],
   "source": [
    "X_train, X_test, y_train, y_test = train_test_split(XX, y, test_size = 0.3, random_state = 10,)"
   ]
  },
  {
   "cell_type": "code",
   "execution_count": 393,
   "metadata": {
    "colab": {
     "base_uri": "https://localhost:8080/"
    },
    "id": "CjBN3eXPdM1s",
    "outputId": "8643fe85-a5e0-4b53-e581-b0df11478405"
   },
   "outputs": [
    {
     "data": {
      "text/plain": [
       "(225990, 14)"
      ]
     },
     "execution_count": 393,
     "metadata": {},
     "output_type": "execute_result"
    }
   ],
   "source": [
    "X_train.shape"
   ]
  },
  {
   "cell_type": "code",
   "execution_count": 394,
   "metadata": {
    "id": "Stovz796dM1t"
   },
   "outputs": [],
   "source": [
    "#Creating model\n",
    "reg1 = LinearRegression()\n",
    "#Fitting training data\n",
    "reg1 = reg1.fit(X_train, y_train)"
   ]
  },
  {
   "cell_type": "code",
   "execution_count": 395,
   "metadata": {
    "colab": {
     "base_uri": "https://localhost:8080/"
    },
    "id": "aVUbWQxldM1t",
    "outputId": "23be0e83-3cba-46b0-ff62-fbd0f90f0a42"
   },
   "outputs": [
    {
     "data": {
      "text/plain": [
       "0.8316530789909437"
      ]
     },
     "execution_count": 395,
     "metadata": {},
     "output_type": "execute_result"
    }
   ],
   "source": [
    "reg1.score(X_train, y_train)"
   ]
  },
  {
   "cell_type": "markdown",
   "metadata": {
    "id": "r5gtEk3WdM1n"
   },
   "source": [
    "#### Training accuracy in 25 features"
   ]
  },
  {
   "cell_type": "code",
   "execution_count": 396,
   "metadata": {
    "colab": {
     "base_uri": "https://localhost:8080/"
    },
    "id": "fEsXKaUidM1o",
    "outputId": "2c19cd37-1150-443d-ef19-525f4d2c50db"
   },
   "outputs": [
    {
     "name": "stdout",
     "output_type": "stream",
     "text": [
      "Fitting estimator with 28 features.\n",
      "Fitting estimator with 27 features.\n",
      "Fitting estimator with 26 features.\n",
      "Fitting estimator with 25 features.\n",
      "Fitting estimator with 24 features.\n",
      "Fitting estimator with 23 features.\n",
      "Fitting estimator with 22 features.\n",
      "Fitting estimator with 21 features.\n",
      "Fitting estimator with 20 features.\n",
      "Fitting estimator with 19 features.\n",
      "Fitting estimator with 18 features.\n",
      "Fitting estimator with 17 features.\n",
      "Fitting estimator with 16 features.\n",
      "Fitting estimator with 15 features.\n"
     ]
    }
   ],
   "source": [
    "rfe = RFE(reg,verbose=1)\n",
    "rfe = rfe.fit(X, y)"
   ]
  },
  {
   "cell_type": "code",
   "execution_count": 397,
   "metadata": {
    "id": "okh284U_dM1o"
   },
   "outputs": [],
   "source": [
    "XX = X[X.columns[rfe.support_]]"
   ]
  },
  {
   "cell_type": "code",
   "execution_count": 398,
   "metadata": {
    "colab": {
     "base_uri": "https://localhost:8080/",
     "height": 215
    },
    "id": "dCrDntLidM1o",
    "outputId": "9612f86d-2ca6-4536-b69c-25ad0d1b915e"
   },
   "outputs": [
    {
     "data": {
      "text/html": [
       "<div>\n",
       "<style scoped>\n",
       "    .dataframe tbody tr th:only-of-type {\n",
       "        vertical-align: middle;\n",
       "    }\n",
       "\n",
       "    .dataframe tbody tr th {\n",
       "        vertical-align: top;\n",
       "    }\n",
       "\n",
       "    .dataframe thead th {\n",
       "        text-align: right;\n",
       "    }\n",
       "</style>\n",
       "<table border=\"1\" class=\"dataframe\">\n",
       "  <thead>\n",
       "    <tr style=\"text-align: right;\">\n",
       "      <th></th>\n",
       "      <th>cab_type</th>\n",
       "      <th>product_id</th>\n",
       "      <th>name</th>\n",
       "      <th>distance</th>\n",
       "      <th>surge_multiplier</th>\n",
       "      <th>latitude</th>\n",
       "      <th>longitude</th>\n",
       "      <th>precipIntensity</th>\n",
       "      <th>humidity</th>\n",
       "      <th>temperatureHigh</th>\n",
       "      <th>apparentTemperatureHigh</th>\n",
       "      <th>precipIntensityMax</th>\n",
       "      <th>temperatureMax</th>\n",
       "      <th>apparentTemperatureMax</th>\n",
       "    </tr>\n",
       "  </thead>\n",
       "  <tbody>\n",
       "    <tr>\n",
       "      <th>0</th>\n",
       "      <td>0</td>\n",
       "      <td>4</td>\n",
       "      <td>2</td>\n",
       "      <td>0.44</td>\n",
       "      <td>1.0</td>\n",
       "      <td>42.2148</td>\n",
       "      <td>-71.0330</td>\n",
       "      <td>0.0000</td>\n",
       "      <td>0.68</td>\n",
       "      <td>43.68</td>\n",
       "      <td>37.95</td>\n",
       "      <td>0.1276</td>\n",
       "      <td>43.68</td>\n",
       "      <td>38.07</td>\n",
       "    </tr>\n",
       "    <tr>\n",
       "      <th>1</th>\n",
       "      <td>0</td>\n",
       "      <td>5</td>\n",
       "      <td>1</td>\n",
       "      <td>0.44</td>\n",
       "      <td>1.0</td>\n",
       "      <td>42.2148</td>\n",
       "      <td>-71.0330</td>\n",
       "      <td>0.1299</td>\n",
       "      <td>0.94</td>\n",
       "      <td>47.30</td>\n",
       "      <td>43.92</td>\n",
       "      <td>0.1300</td>\n",
       "      <td>47.30</td>\n",
       "      <td>43.92</td>\n",
       "    </tr>\n",
       "    <tr>\n",
       "      <th>2</th>\n",
       "      <td>0</td>\n",
       "      <td>4</td>\n",
       "      <td>2</td>\n",
       "      <td>1.08</td>\n",
       "      <td>1.0</td>\n",
       "      <td>42.3503</td>\n",
       "      <td>-71.0810</td>\n",
       "      <td>0.0000</td>\n",
       "      <td>0.96</td>\n",
       "      <td>57.02</td>\n",
       "      <td>56.35</td>\n",
       "      <td>0.0004</td>\n",
       "      <td>57.02</td>\n",
       "      <td>56.35</td>\n",
       "    </tr>\n",
       "    <tr>\n",
       "      <th>3</th>\n",
       "      <td>0</td>\n",
       "      <td>5</td>\n",
       "      <td>1</td>\n",
       "      <td>1.08</td>\n",
       "      <td>1.0</td>\n",
       "      <td>42.3503</td>\n",
       "      <td>-71.0810</td>\n",
       "      <td>0.0000</td>\n",
       "      <td>0.62</td>\n",
       "      <td>42.32</td>\n",
       "      <td>40.48</td>\n",
       "      <td>0.0004</td>\n",
       "      <td>42.32</td>\n",
       "      <td>40.48</td>\n",
       "    </tr>\n",
       "    <tr>\n",
       "      <th>4</th>\n",
       "      <td>1</td>\n",
       "      <td>0</td>\n",
       "      <td>5</td>\n",
       "      <td>1.11</td>\n",
       "      <td>1.0</td>\n",
       "      <td>42.3647</td>\n",
       "      <td>-71.0542</td>\n",
       "      <td>0.0000</td>\n",
       "      <td>0.56</td>\n",
       "      <td>33.83</td>\n",
       "      <td>32.85</td>\n",
       "      <td>0.0001</td>\n",
       "      <td>33.83</td>\n",
       "      <td>32.85</td>\n",
       "    </tr>\n",
       "  </tbody>\n",
       "</table>\n",
       "</div>"
      ],
      "text/plain": [
       "   cab_type  product_id  name  distance  surge_multiplier  latitude  \\\n",
       "0         0           4     2      0.44               1.0   42.2148   \n",
       "1         0           5     1      0.44               1.0   42.2148   \n",
       "2         0           4     2      1.08               1.0   42.3503   \n",
       "3         0           5     1      1.08               1.0   42.3503   \n",
       "4         1           0     5      1.11               1.0   42.3647   \n",
       "\n",
       "   longitude  precipIntensity  humidity  temperatureHigh  \\\n",
       "0   -71.0330           0.0000      0.68            43.68   \n",
       "1   -71.0330           0.1299      0.94            47.30   \n",
       "2   -71.0810           0.0000      0.96            57.02   \n",
       "3   -71.0810           0.0000      0.62            42.32   \n",
       "4   -71.0542           0.0000      0.56            33.83   \n",
       "\n",
       "   apparentTemperatureHigh  precipIntensityMax  temperatureMax  \\\n",
       "0                    37.95              0.1276           43.68   \n",
       "1                    43.92              0.1300           47.30   \n",
       "2                    56.35              0.0004           57.02   \n",
       "3                    40.48              0.0004           42.32   \n",
       "4                    32.85              0.0001           33.83   \n",
       "\n",
       "   apparentTemperatureMax  \n",
       "0                   38.07  \n",
       "1                   43.92  \n",
       "2                   56.35  \n",
       "3                   40.48  \n",
       "4                   32.85  "
      ]
     },
     "execution_count": 398,
     "metadata": {},
     "output_type": "execute_result"
    }
   ],
   "source": [
    "XX.head()"
   ]
  },
  {
   "cell_type": "code",
   "execution_count": 399,
   "metadata": {
    "id": "a4bIu5BBdM1p"
   },
   "outputs": [],
   "source": [
    "X_train, X_test, y_train, y_test = train_test_split(XX, y, test_size = 0.3, random_state = 20,)"
   ]
  },
  {
   "cell_type": "code",
   "execution_count": 400,
   "metadata": {
    "colab": {
     "base_uri": "https://localhost:8080/"
    },
    "id": "B5mo6yv5dM1p",
    "outputId": "7b1de43d-fdb3-4409-c94f-86139825eb58"
   },
   "outputs": [
    {
     "data": {
      "text/plain": [
       "(225990, 14)"
      ]
     },
     "execution_count": 400,
     "metadata": {},
     "output_type": "execute_result"
    }
   ],
   "source": [
    "X_train.shape"
   ]
  },
  {
   "cell_type": "code",
   "execution_count": 401,
   "metadata": {
    "id": "R9iOX2L3dM1p"
   },
   "outputs": [],
   "source": [
    "#Creating model\n",
    "reg1 = LinearRegression()\n",
    "#Fitting training data\n",
    "reg1 = reg1.fit(X_train, y_train)\n",
    "#Y prediction\n",
    "Y_pred = reg1.predict(X_test)"
   ]
  },
  {
   "cell_type": "code",
   "execution_count": 402,
   "metadata": {
    "colab": {
     "base_uri": "https://localhost:8080/"
    },
    "id": "yyphrzfLdM1q",
    "outputId": "d431bb63-e9f9-40a4-d2ed-4eb88d4695b3"
   },
   "outputs": [
    {
     "data": {
      "text/plain": [
       "0.8321604142733156"
      ]
     },
     "execution_count": 402,
     "metadata": {},
     "output_type": "execute_result"
    }
   ],
   "source": [
    "reg1.score(X_train, y_train)"
   ]
  },
  {
   "cell_type": "markdown",
   "metadata": {
    "id": "6GT_96u2dM1u"
   },
   "source": [
    "- Since we find the accuracy for  k = 56 , 40 , 25 and 15. \n",
    "- Hence we noticed that the when k = 25 we get the maximum training accuracy in Linear Regression Model"
   ]
  },
  {
   "cell_type": "markdown",
   "metadata": {
    "id": "pHzg3qKjdM1u"
   },
   "source": [
    "### 25 Columns After RFE"
   ]
  },
  {
   "cell_type": "code",
   "execution_count": 403,
   "metadata": {
    "colab": {
     "base_uri": "https://localhost:8080/"
    },
    "id": "zVDqBK1DdM1u",
    "outputId": "21465058-853f-4de2-ce4a-cf9eb079807d"
   },
   "outputs": [
    {
     "data": {
      "text/plain": [
       "Index(['cab_type', 'product_id', 'name', 'distance', 'surge_multiplier',\n",
       "       'latitude', 'longitude', 'precipIntensity', 'humidity',\n",
       "       'temperatureHigh', 'apparentTemperatureHigh', 'precipIntensityMax',\n",
       "       'temperatureMax', 'apparentTemperatureMax'],\n",
       "      dtype='object')"
      ]
     },
     "execution_count": 403,
     "metadata": {},
     "output_type": "execute_result"
    }
   ],
   "source": [
    "XX.columns"
   ]
  },
  {
   "cell_type": "code",
   "execution_count": 404,
   "metadata": {
    "colab": {
     "base_uri": "https://localhost:8080/"
    },
    "id": "ktWXBUOFdM1v",
    "outputId": "9448de0d-532d-4f0b-b6c1-c965c6de5c57"
   },
   "outputs": [
    {
     "data": {
      "text/plain": [
       "(322844, 14)"
      ]
     },
     "execution_count": 404,
     "metadata": {},
     "output_type": "execute_result"
    }
   ],
   "source": [
    "XX.shape"
   ]
  },
  {
   "cell_type": "code",
   "execution_count": 405,
   "metadata": {
    "colab": {
     "base_uri": "https://localhost:8080/",
     "height": 215
    },
    "id": "mVNmkqETdM1v",
    "outputId": "646ad93a-cee4-4ed8-d87d-8016c63c5d7e"
   },
   "outputs": [
    {
     "data": {
      "text/html": [
       "<div>\n",
       "<style scoped>\n",
       "    .dataframe tbody tr th:only-of-type {\n",
       "        vertical-align: middle;\n",
       "    }\n",
       "\n",
       "    .dataframe tbody tr th {\n",
       "        vertical-align: top;\n",
       "    }\n",
       "\n",
       "    .dataframe thead th {\n",
       "        text-align: right;\n",
       "    }\n",
       "</style>\n",
       "<table border=\"1\" class=\"dataframe\">\n",
       "  <thead>\n",
       "    <tr style=\"text-align: right;\">\n",
       "      <th></th>\n",
       "      <th>cab_type</th>\n",
       "      <th>product_id</th>\n",
       "      <th>name</th>\n",
       "      <th>distance</th>\n",
       "      <th>surge_multiplier</th>\n",
       "      <th>latitude</th>\n",
       "      <th>longitude</th>\n",
       "      <th>precipIntensity</th>\n",
       "      <th>humidity</th>\n",
       "      <th>temperatureHigh</th>\n",
       "      <th>apparentTemperatureHigh</th>\n",
       "      <th>precipIntensityMax</th>\n",
       "      <th>temperatureMax</th>\n",
       "      <th>apparentTemperatureMax</th>\n",
       "    </tr>\n",
       "  </thead>\n",
       "  <tbody>\n",
       "    <tr>\n",
       "      <th>0</th>\n",
       "      <td>0</td>\n",
       "      <td>4</td>\n",
       "      <td>2</td>\n",
       "      <td>0.44</td>\n",
       "      <td>1.0</td>\n",
       "      <td>42.2148</td>\n",
       "      <td>-71.0330</td>\n",
       "      <td>0.0000</td>\n",
       "      <td>0.68</td>\n",
       "      <td>43.68</td>\n",
       "      <td>37.95</td>\n",
       "      <td>0.1276</td>\n",
       "      <td>43.68</td>\n",
       "      <td>38.07</td>\n",
       "    </tr>\n",
       "    <tr>\n",
       "      <th>1</th>\n",
       "      <td>0</td>\n",
       "      <td>5</td>\n",
       "      <td>1</td>\n",
       "      <td>0.44</td>\n",
       "      <td>1.0</td>\n",
       "      <td>42.2148</td>\n",
       "      <td>-71.0330</td>\n",
       "      <td>0.1299</td>\n",
       "      <td>0.94</td>\n",
       "      <td>47.30</td>\n",
       "      <td>43.92</td>\n",
       "      <td>0.1300</td>\n",
       "      <td>47.30</td>\n",
       "      <td>43.92</td>\n",
       "    </tr>\n",
       "    <tr>\n",
       "      <th>2</th>\n",
       "      <td>0</td>\n",
       "      <td>4</td>\n",
       "      <td>2</td>\n",
       "      <td>1.08</td>\n",
       "      <td>1.0</td>\n",
       "      <td>42.3503</td>\n",
       "      <td>-71.0810</td>\n",
       "      <td>0.0000</td>\n",
       "      <td>0.96</td>\n",
       "      <td>57.02</td>\n",
       "      <td>56.35</td>\n",
       "      <td>0.0004</td>\n",
       "      <td>57.02</td>\n",
       "      <td>56.35</td>\n",
       "    </tr>\n",
       "    <tr>\n",
       "      <th>3</th>\n",
       "      <td>0</td>\n",
       "      <td>5</td>\n",
       "      <td>1</td>\n",
       "      <td>1.08</td>\n",
       "      <td>1.0</td>\n",
       "      <td>42.3503</td>\n",
       "      <td>-71.0810</td>\n",
       "      <td>0.0000</td>\n",
       "      <td>0.62</td>\n",
       "      <td>42.32</td>\n",
       "      <td>40.48</td>\n",
       "      <td>0.0004</td>\n",
       "      <td>42.32</td>\n",
       "      <td>40.48</td>\n",
       "    </tr>\n",
       "    <tr>\n",
       "      <th>4</th>\n",
       "      <td>1</td>\n",
       "      <td>0</td>\n",
       "      <td>5</td>\n",
       "      <td>1.11</td>\n",
       "      <td>1.0</td>\n",
       "      <td>42.3647</td>\n",
       "      <td>-71.0542</td>\n",
       "      <td>0.0000</td>\n",
       "      <td>0.56</td>\n",
       "      <td>33.83</td>\n",
       "      <td>32.85</td>\n",
       "      <td>0.0001</td>\n",
       "      <td>33.83</td>\n",
       "      <td>32.85</td>\n",
       "    </tr>\n",
       "  </tbody>\n",
       "</table>\n",
       "</div>"
      ],
      "text/plain": [
       "   cab_type  product_id  name  distance  surge_multiplier  latitude  \\\n",
       "0         0           4     2      0.44               1.0   42.2148   \n",
       "1         0           5     1      0.44               1.0   42.2148   \n",
       "2         0           4     2      1.08               1.0   42.3503   \n",
       "3         0           5     1      1.08               1.0   42.3503   \n",
       "4         1           0     5      1.11               1.0   42.3647   \n",
       "\n",
       "   longitude  precipIntensity  humidity  temperatureHigh  \\\n",
       "0   -71.0330           0.0000      0.68            43.68   \n",
       "1   -71.0330           0.1299      0.94            47.30   \n",
       "2   -71.0810           0.0000      0.96            57.02   \n",
       "3   -71.0810           0.0000      0.62            42.32   \n",
       "4   -71.0542           0.0000      0.56            33.83   \n",
       "\n",
       "   apparentTemperatureHigh  precipIntensityMax  temperatureMax  \\\n",
       "0                    37.95              0.1276           43.68   \n",
       "1                    43.92              0.1300           47.30   \n",
       "2                    56.35              0.0004           57.02   \n",
       "3                    40.48              0.0004           42.32   \n",
       "4                    32.85              0.0001           33.83   \n",
       "\n",
       "   apparentTemperatureMax  \n",
       "0                   38.07  \n",
       "1                   43.92  \n",
       "2                   56.35  \n",
       "3                   40.48  \n",
       "4                   32.85  "
      ]
     },
     "execution_count": 405,
     "metadata": {},
     "output_type": "execute_result"
    }
   ],
   "source": [
    "XX.head()"
   ]
  },
  {
   "cell_type": "markdown",
   "metadata": {},
   "source": [
    "### Drop Useless Features"
   ]
  },
  {
   "cell_type": "code",
   "execution_count": 406,
   "metadata": {
    "id": "j9GdXVpAdM1w"
   },
   "outputs": [],
   "source": [
    "features_drop = ['latitude', 'longitude', 'apparentTemperatureHigh','precipIntensity','temperatureHigh','precipIntensityMax',\n",
    "       'temperatureMax','distance']\n"
   ]
  },
  {
   "cell_type": "code",
   "execution_count": 407,
   "metadata": {},
   "outputs": [
    {
     "data": {
      "text/plain": [
       "cab_type                     int32\n",
       "product_id                   int32\n",
       "name                         int32\n",
       "distance                   float64\n",
       "surge_multiplier           float64\n",
       "latitude                   float64\n",
       "longitude                  float64\n",
       "precipIntensity            float64\n",
       "humidity                   float64\n",
       "temperatureHigh            float64\n",
       "apparentTemperatureHigh    float64\n",
       "precipIntensityMax         float64\n",
       "temperatureMax             float64\n",
       "apparentTemperatureMax     float64\n",
       "dtype: object"
      ]
     },
     "execution_count": 407,
     "metadata": {},
     "output_type": "execute_result"
    }
   ],
   "source": [
    "XX.dtypes"
   ]
  },
  {
   "cell_type": "code",
   "execution_count": 409,
   "metadata": {},
   "outputs": [],
   "source": [
    "new_uber = XX.drop(features_drop, axis=1)"
   ]
  },
  {
   "cell_type": "code",
   "execution_count": 410,
   "metadata": {},
   "outputs": [
    {
     "data": {
      "text/html": [
       "<div>\n",
       "<style scoped>\n",
       "    .dataframe tbody tr th:only-of-type {\n",
       "        vertical-align: middle;\n",
       "    }\n",
       "\n",
       "    .dataframe tbody tr th {\n",
       "        vertical-align: top;\n",
       "    }\n",
       "\n",
       "    .dataframe thead th {\n",
       "        text-align: right;\n",
       "    }\n",
       "</style>\n",
       "<table border=\"1\" class=\"dataframe\">\n",
       "  <thead>\n",
       "    <tr style=\"text-align: right;\">\n",
       "      <th></th>\n",
       "      <th>cab_type</th>\n",
       "      <th>product_id</th>\n",
       "      <th>name</th>\n",
       "      <th>surge_multiplier</th>\n",
       "      <th>humidity</th>\n",
       "      <th>apparentTemperatureMax</th>\n",
       "    </tr>\n",
       "  </thead>\n",
       "  <tbody>\n",
       "    <tr>\n",
       "      <th>0</th>\n",
       "      <td>0</td>\n",
       "      <td>4</td>\n",
       "      <td>2</td>\n",
       "      <td>1.0</td>\n",
       "      <td>0.68</td>\n",
       "      <td>38.07</td>\n",
       "    </tr>\n",
       "    <tr>\n",
       "      <th>1</th>\n",
       "      <td>0</td>\n",
       "      <td>5</td>\n",
       "      <td>1</td>\n",
       "      <td>1.0</td>\n",
       "      <td>0.94</td>\n",
       "      <td>43.92</td>\n",
       "    </tr>\n",
       "    <tr>\n",
       "      <th>2</th>\n",
       "      <td>0</td>\n",
       "      <td>4</td>\n",
       "      <td>2</td>\n",
       "      <td>1.0</td>\n",
       "      <td>0.96</td>\n",
       "      <td>56.35</td>\n",
       "    </tr>\n",
       "    <tr>\n",
       "      <th>3</th>\n",
       "      <td>0</td>\n",
       "      <td>5</td>\n",
       "      <td>1</td>\n",
       "      <td>1.0</td>\n",
       "      <td>0.62</td>\n",
       "      <td>40.48</td>\n",
       "    </tr>\n",
       "    <tr>\n",
       "      <th>4</th>\n",
       "      <td>1</td>\n",
       "      <td>0</td>\n",
       "      <td>5</td>\n",
       "      <td>1.0</td>\n",
       "      <td>0.56</td>\n",
       "      <td>32.85</td>\n",
       "    </tr>\n",
       "  </tbody>\n",
       "</table>\n",
       "</div>"
      ],
      "text/plain": [
       "   cab_type  product_id  name  surge_multiplier  humidity  \\\n",
       "0         0           4     2               1.0      0.68   \n",
       "1         0           5     1               1.0      0.94   \n",
       "2         0           4     2               1.0      0.96   \n",
       "3         0           5     1               1.0      0.62   \n",
       "4         1           0     5               1.0      0.56   \n",
       "\n",
       "   apparentTemperatureMax  \n",
       "0                   38.07  \n",
       "1                   43.92  \n",
       "2                   56.35  \n",
       "3                   40.48  \n",
       "4                   32.85  "
      ]
     },
     "execution_count": 410,
     "metadata": {},
     "output_type": "execute_result"
    }
   ],
   "source": [
    "new_uber.head()"
   ]
  },
  {
   "cell_type": "markdown",
   "metadata": {},
   "source": [
    "### Binning"
   ]
  },
  {
   "cell_type": "code",
   "execution_count": 411,
   "metadata": {},
   "outputs": [
    {
     "ename": "KeyError",
     "evalue": "'month'",
     "output_type": "error",
     "traceback": [
      "\u001b[1;31m---------------------------------------------------------------------------\u001b[0m",
      "\u001b[1;31mKeyError\u001b[0m                                  Traceback (most recent call last)",
      "\u001b[1;32m~\\AppData\\Roaming\\Python\\Python39\\site-packages\\pandas\\core\\indexes\\base.py\u001b[0m in \u001b[0;36mget_loc\u001b[1;34m(self, key, method, tolerance)\u001b[0m\n\u001b[0;32m   3360\u001b[0m             \u001b[1;32mtry\u001b[0m\u001b[1;33m:\u001b[0m\u001b[1;33m\u001b[0m\u001b[1;33m\u001b[0m\u001b[0m\n\u001b[1;32m-> 3361\u001b[1;33m                 \u001b[1;32mreturn\u001b[0m \u001b[0mself\u001b[0m\u001b[1;33m.\u001b[0m\u001b[0m_engine\u001b[0m\u001b[1;33m.\u001b[0m\u001b[0mget_loc\u001b[0m\u001b[1;33m(\u001b[0m\u001b[0mcasted_key\u001b[0m\u001b[1;33m)\u001b[0m\u001b[1;33m\u001b[0m\u001b[1;33m\u001b[0m\u001b[0m\n\u001b[0m\u001b[0;32m   3362\u001b[0m             \u001b[1;32mexcept\u001b[0m \u001b[0mKeyError\u001b[0m \u001b[1;32mas\u001b[0m \u001b[0merr\u001b[0m\u001b[1;33m:\u001b[0m\u001b[1;33m\u001b[0m\u001b[1;33m\u001b[0m\u001b[0m\n",
      "\u001b[1;32m~\\AppData\\Roaming\\Python\\Python39\\site-packages\\pandas\\_libs\\index.pyx\u001b[0m in \u001b[0;36mpandas._libs.index.IndexEngine.get_loc\u001b[1;34m()\u001b[0m\n",
      "\u001b[1;32m~\\AppData\\Roaming\\Python\\Python39\\site-packages\\pandas\\_libs\\index.pyx\u001b[0m in \u001b[0;36mpandas._libs.index.IndexEngine.get_loc\u001b[1;34m()\u001b[0m\n",
      "\u001b[1;32mpandas\\_libs\\hashtable_class_helper.pxi\u001b[0m in \u001b[0;36mpandas._libs.hashtable.PyObjectHashTable.get_item\u001b[1;34m()\u001b[0m\n",
      "\u001b[1;32mpandas\\_libs\\hashtable_class_helper.pxi\u001b[0m in \u001b[0;36mpandas._libs.hashtable.PyObjectHashTable.get_item\u001b[1;34m()\u001b[0m\n",
      "\u001b[1;31mKeyError\u001b[0m: 'month'",
      "\nThe above exception was the direct cause of the following exception:\n",
      "\u001b[1;31mKeyError\u001b[0m                                  Traceback (most recent call last)",
      "\u001b[1;32m~\\AppData\\Local\\Temp/ipykernel_7640/2885355963.py\u001b[0m in \u001b[0;36m<module>\u001b[1;34m\u001b[0m\n\u001b[0;32m      1\u001b[0m \u001b[0mmonth_mapping\u001b[0m \u001b[1;33m=\u001b[0m \u001b[1;33m{\u001b[0m\u001b[1;36m11\u001b[0m\u001b[1;33m:\u001b[0m \u001b[1;36m0\u001b[0m\u001b[1;33m,\u001b[0m \u001b[1;36m12\u001b[0m\u001b[1;33m:\u001b[0m \u001b[1;36m1\u001b[0m\u001b[1;33m}\u001b[0m\u001b[1;33m\u001b[0m\u001b[1;33m\u001b[0m\u001b[0m\n\u001b[1;32m----> 2\u001b[1;33m \u001b[0mnew_uber\u001b[0m\u001b[1;33m[\u001b[0m\u001b[1;34m'month'\u001b[0m\u001b[1;33m]\u001b[0m \u001b[1;33m=\u001b[0m \u001b[0mnew_uber\u001b[0m\u001b[1;33m[\u001b[0m\u001b[1;34m'month'\u001b[0m\u001b[1;33m]\u001b[0m\u001b[1;33m.\u001b[0m\u001b[0mmap\u001b[0m\u001b[1;33m(\u001b[0m\u001b[0mmonth_mapping\u001b[0m\u001b[1;33m)\u001b[0m\u001b[1;33m\u001b[0m\u001b[1;33m\u001b[0m\u001b[0m\n\u001b[0m",
      "\u001b[1;32m~\\AppData\\Roaming\\Python\\Python39\\site-packages\\pandas\\core\\frame.py\u001b[0m in \u001b[0;36m__getitem__\u001b[1;34m(self, key)\u001b[0m\n\u001b[0;32m   3453\u001b[0m             \u001b[1;32mif\u001b[0m \u001b[0mself\u001b[0m\u001b[1;33m.\u001b[0m\u001b[0mcolumns\u001b[0m\u001b[1;33m.\u001b[0m\u001b[0mnlevels\u001b[0m \u001b[1;33m>\u001b[0m \u001b[1;36m1\u001b[0m\u001b[1;33m:\u001b[0m\u001b[1;33m\u001b[0m\u001b[1;33m\u001b[0m\u001b[0m\n\u001b[0;32m   3454\u001b[0m                 \u001b[1;32mreturn\u001b[0m \u001b[0mself\u001b[0m\u001b[1;33m.\u001b[0m\u001b[0m_getitem_multilevel\u001b[0m\u001b[1;33m(\u001b[0m\u001b[0mkey\u001b[0m\u001b[1;33m)\u001b[0m\u001b[1;33m\u001b[0m\u001b[1;33m\u001b[0m\u001b[0m\n\u001b[1;32m-> 3455\u001b[1;33m             \u001b[0mindexer\u001b[0m \u001b[1;33m=\u001b[0m \u001b[0mself\u001b[0m\u001b[1;33m.\u001b[0m\u001b[0mcolumns\u001b[0m\u001b[1;33m.\u001b[0m\u001b[0mget_loc\u001b[0m\u001b[1;33m(\u001b[0m\u001b[0mkey\u001b[0m\u001b[1;33m)\u001b[0m\u001b[1;33m\u001b[0m\u001b[1;33m\u001b[0m\u001b[0m\n\u001b[0m\u001b[0;32m   3456\u001b[0m             \u001b[1;32mif\u001b[0m \u001b[0mis_integer\u001b[0m\u001b[1;33m(\u001b[0m\u001b[0mindexer\u001b[0m\u001b[1;33m)\u001b[0m\u001b[1;33m:\u001b[0m\u001b[1;33m\u001b[0m\u001b[1;33m\u001b[0m\u001b[0m\n\u001b[0;32m   3457\u001b[0m                 \u001b[0mindexer\u001b[0m \u001b[1;33m=\u001b[0m \u001b[1;33m[\u001b[0m\u001b[0mindexer\u001b[0m\u001b[1;33m]\u001b[0m\u001b[1;33m\u001b[0m\u001b[1;33m\u001b[0m\u001b[0m\n",
      "\u001b[1;32m~\\AppData\\Roaming\\Python\\Python39\\site-packages\\pandas\\core\\indexes\\base.py\u001b[0m in \u001b[0;36mget_loc\u001b[1;34m(self, key, method, tolerance)\u001b[0m\n\u001b[0;32m   3361\u001b[0m                 \u001b[1;32mreturn\u001b[0m \u001b[0mself\u001b[0m\u001b[1;33m.\u001b[0m\u001b[0m_engine\u001b[0m\u001b[1;33m.\u001b[0m\u001b[0mget_loc\u001b[0m\u001b[1;33m(\u001b[0m\u001b[0mcasted_key\u001b[0m\u001b[1;33m)\u001b[0m\u001b[1;33m\u001b[0m\u001b[1;33m\u001b[0m\u001b[0m\n\u001b[0;32m   3362\u001b[0m             \u001b[1;32mexcept\u001b[0m \u001b[0mKeyError\u001b[0m \u001b[1;32mas\u001b[0m \u001b[0merr\u001b[0m\u001b[1;33m:\u001b[0m\u001b[1;33m\u001b[0m\u001b[1;33m\u001b[0m\u001b[0m\n\u001b[1;32m-> 3363\u001b[1;33m                 \u001b[1;32mraise\u001b[0m \u001b[0mKeyError\u001b[0m\u001b[1;33m(\u001b[0m\u001b[0mkey\u001b[0m\u001b[1;33m)\u001b[0m \u001b[1;32mfrom\u001b[0m \u001b[0merr\u001b[0m\u001b[1;33m\u001b[0m\u001b[1;33m\u001b[0m\u001b[0m\n\u001b[0m\u001b[0;32m   3364\u001b[0m \u001b[1;33m\u001b[0m\u001b[0m\n\u001b[0;32m   3365\u001b[0m         \u001b[1;32mif\u001b[0m \u001b[0mis_scalar\u001b[0m\u001b[1;33m(\u001b[0m\u001b[0mkey\u001b[0m\u001b[1;33m)\u001b[0m \u001b[1;32mand\u001b[0m \u001b[0misna\u001b[0m\u001b[1;33m(\u001b[0m\u001b[0mkey\u001b[0m\u001b[1;33m)\u001b[0m \u001b[1;32mand\u001b[0m \u001b[1;32mnot\u001b[0m \u001b[0mself\u001b[0m\u001b[1;33m.\u001b[0m\u001b[0mhasnans\u001b[0m\u001b[1;33m:\u001b[0m\u001b[1;33m\u001b[0m\u001b[1;33m\u001b[0m\u001b[0m\n",
      "\u001b[1;31mKeyError\u001b[0m: 'month'"
     ]
    }
   ],
   "source": [
    "month_mapping = {11: 0, 12: 1}\n",
    "new_uber['month'] = new_uber['month'].map(month_mapping)"
   ]
  },
  {
   "cell_type": "code",
   "execution_count": 54,
   "metadata": {},
   "outputs": [],
   "source": [
    "surge_multiplier_mapping = {1.: 0, 1.25: 1, 1.5: 2, 1.75: 3, 2.:4}\n",
    "new_uber['surge_multiplier'] = new_uber['surge_multiplier'].map(surge_multiplier_mapping)"
   ]
  },
  {
   "cell_type": "markdown",
   "metadata": {
    "id": "x_pzLDEQdM1w"
   },
   "source": [
    "### Final Dataset"
   ]
  },
  {
   "cell_type": "code",
   "execution_count": 55,
   "metadata": {
    "colab": {
     "base_uri": "https://localhost:8080/",
     "height": 195
    },
    "id": "wyWua_W-dM1w",
    "outputId": "302f32f2-d5ab-45a2-87db-3dedd5fc2c19"
   },
   "outputs": [
    {
     "data": {
      "text/html": [
       "<div>\n",
       "<style scoped>\n",
       "    .dataframe tbody tr th:only-of-type {\n",
       "        vertical-align: middle;\n",
       "    }\n",
       "\n",
       "    .dataframe tbody tr th {\n",
       "        vertical-align: top;\n",
       "    }\n",
       "\n",
       "    .dataframe thead th {\n",
       "        text-align: right;\n",
       "    }\n",
       "</style>\n",
       "<table border=\"1\" class=\"dataframe\">\n",
       "  <thead>\n",
       "    <tr style=\"text-align: right;\">\n",
       "      <th></th>\n",
       "      <th>month</th>\n",
       "      <th>source</th>\n",
       "      <th>destination</th>\n",
       "      <th>product_id</th>\n",
       "      <th>name</th>\n",
       "      <th>surge_multiplier</th>\n",
       "      <th>icon</th>\n",
       "      <th>uvIndex</th>\n",
       "    </tr>\n",
       "  </thead>\n",
       "  <tbody>\n",
       "    <tr>\n",
       "      <td>0</td>\n",
       "      <td>1</td>\n",
       "      <td>5</td>\n",
       "      <td>7</td>\n",
       "      <td>4</td>\n",
       "      <td>2</td>\n",
       "      <td>0</td>\n",
       "      <td>5</td>\n",
       "      <td>0</td>\n",
       "    </tr>\n",
       "    <tr>\n",
       "      <td>1</td>\n",
       "      <td>0</td>\n",
       "      <td>5</td>\n",
       "      <td>7</td>\n",
       "      <td>5</td>\n",
       "      <td>1</td>\n",
       "      <td>0</td>\n",
       "      <td>6</td>\n",
       "      <td>0</td>\n",
       "    </tr>\n",
       "    <tr>\n",
       "      <td>2</td>\n",
       "      <td>1</td>\n",
       "      <td>0</td>\n",
       "      <td>8</td>\n",
       "      <td>4</td>\n",
       "      <td>2</td>\n",
       "      <td>0</td>\n",
       "      <td>3</td>\n",
       "      <td>0</td>\n",
       "    </tr>\n",
       "    <tr>\n",
       "      <td>3</td>\n",
       "      <td>0</td>\n",
       "      <td>0</td>\n",
       "      <td>8</td>\n",
       "      <td>5</td>\n",
       "      <td>1</td>\n",
       "      <td>0</td>\n",
       "      <td>0</td>\n",
       "      <td>2</td>\n",
       "    </tr>\n",
       "    <tr>\n",
       "      <td>4</td>\n",
       "      <td>1</td>\n",
       "      <td>6</td>\n",
       "      <td>11</td>\n",
       "      <td>0</td>\n",
       "      <td>5</td>\n",
       "      <td>0</td>\n",
       "      <td>4</td>\n",
       "      <td>0</td>\n",
       "    </tr>\n",
       "  </tbody>\n",
       "</table>\n",
       "</div>"
      ],
      "text/plain": [
       "   month  source  destination  product_id  name  surge_multiplier  icon  \\\n",
       "0      1       5            7           4     2                 0     5   \n",
       "1      0       5            7           5     1                 0     6   \n",
       "2      1       0            8           4     2                 0     3   \n",
       "3      0       0            8           5     1                 0     0   \n",
       "4      1       6           11           0     5                 0     4   \n",
       "\n",
       "   uvIndex  \n",
       "0        0  \n",
       "1        0  \n",
       "2        0  \n",
       "3        2  \n",
       "4        0  "
      ]
     },
     "execution_count": 55,
     "metadata": {},
     "output_type": "execute_result"
    }
   ],
   "source": [
    "new_uber.head()"
   ]
  },
  {
   "cell_type": "code",
   "execution_count": 56,
   "metadata": {
    "colab": {
     "base_uri": "https://localhost:8080/"
    },
    "id": "4301z2lmdM1w",
    "outputId": "c9f307c5-b8ae-4876-a4e3-0e2695bec404"
   },
   "outputs": [
    {
     "data": {
      "text/plain": [
       "0     5\n",
       "1    11\n",
       "2     3\n",
       "3    13\n",
       "4     7\n",
       "Name: price, dtype: int32"
      ]
     },
     "execution_count": 56,
     "metadata": {},
     "output_type": "execute_result"
    }
   ],
   "source": [
    "y.head()"
   ]
  },
  {
   "cell_type": "markdown",
   "metadata": {
    "id": "JF9cUd1cdM1x"
   },
   "source": [
    "## 5. Modeling\n",
    "-----------------------------------------------------"
   ]
  },
  {
   "cell_type": "code",
   "execution_count": 412,
   "metadata": {
    "colab": {
     "base_uri": "https://localhost:8080/"
    },
    "id": "Z2ycv_I1dM1x",
    "outputId": "786d6860-d986-4e64-8905-23bc8551b795"
   },
   "outputs": [
    {
     "data": {
      "text/plain": [
       "(322844, 6)"
      ]
     },
     "execution_count": 412,
     "metadata": {},
     "output_type": "execute_result"
    }
   ],
   "source": [
    "new_uber.shape"
   ]
  },
  {
   "cell_type": "code",
   "execution_count": 413,
   "metadata": {
    "colab": {
     "base_uri": "https://localhost:8080/"
    },
    "id": "l6g4DuvHdM1y",
    "outputId": "70212ec8-a27d-4377-b166-63ea4c339cd8"
   },
   "outputs": [
    {
     "data": {
      "text/plain": [
       "(322844,)"
      ]
     },
     "execution_count": 413,
     "metadata": {},
     "output_type": "execute_result"
    }
   ],
   "source": [
    "y.shape"
   ]
  },
  {
   "cell_type": "code",
   "execution_count": 414,
   "metadata": {
    "id": "Cs4mLXOJdM1y"
   },
   "outputs": [],
   "source": [
    "# Using Skicit-learn to split data into training and testing sets\n",
    "from sklearn.model_selection import train_test_split\n",
    "# Split the data into training and testing sets\n",
    "xx_train, xx_test, yy_train, yy_test = train_test_split(new_uber, y, test_size = 0.2, random_state = 42)"
   ]
  },
  {
   "cell_type": "code",
   "execution_count": 415,
   "metadata": {
    "colab": {
     "base_uri": "https://localhost:8080/"
    },
    "id": "NJUgsh3MdM1y",
    "outputId": "5af56cce-9d2d-4e00-e8e8-d092f0b46cb9"
   },
   "outputs": [
    {
     "data": {
      "text/plain": [
       "(258275, 6)"
      ]
     },
     "execution_count": 415,
     "metadata": {},
     "output_type": "execute_result"
    }
   ],
   "source": [
    "xx_train.shape"
   ]
  },
  {
   "cell_type": "code",
   "execution_count": 416,
   "metadata": {
    "colab": {
     "base_uri": "https://localhost:8080/"
    },
    "id": "yilLNU7xdM1z",
    "outputId": "0929bcea-2132-439d-f5b5-c73acb3de2d5"
   },
   "outputs": [
    {
     "data": {
      "text/plain": [
       "(64569, 6)"
      ]
     },
     "execution_count": 416,
     "metadata": {},
     "output_type": "execute_result"
    }
   ],
   "source": [
    "xx_test.shape"
   ]
  },
  {
   "cell_type": "code",
   "execution_count": 417,
   "metadata": {
    "colab": {
     "base_uri": "https://localhost:8080/"
    },
    "id": "yxfu38ltdM1z",
    "outputId": "37d29ced-a0e9-4c82-84a5-c57308855877"
   },
   "outputs": [
    {
     "data": {
      "text/plain": [
       "(258275,)"
      ]
     },
     "execution_count": 417,
     "metadata": {},
     "output_type": "execute_result"
    }
   ],
   "source": [
    "yy_train.shape"
   ]
  },
  {
   "cell_type": "code",
   "execution_count": 418,
   "metadata": {
    "colab": {
     "base_uri": "https://localhost:8080/"
    },
    "id": "uLPsI8SbdM10",
    "outputId": "f03238dd-b013-4bee-8f53-7ee613c577dc"
   },
   "outputs": [
    {
     "data": {
      "text/plain": [
       "(64569,)"
      ]
     },
     "execution_count": 418,
     "metadata": {},
     "output_type": "execute_result"
    }
   ],
   "source": [
    "yy_test.shape"
   ]
  },
  {
   "cell_type": "code",
   "execution_count": 419,
   "metadata": {
    "id": "hl_HaXAQdM12"
   },
   "outputs": [],
   "source": [
    "from sklearn.linear_model import LinearRegression\n",
    "from sklearn.linear_model import LogisticRegression\n",
    "from sklearn.tree import DecisionTreeRegressor\n",
    "from sklearn.ensemble import RandomForestRegressor "
   ]
  },
  {
   "cell_type": "markdown",
   "metadata": {
    "id": "SGNZ4cfPdM13"
   },
   "source": [
    "#### 5.1 Linear regression"
   ]
  },
  {
   "cell_type": "code",
   "execution_count": 420,
   "metadata": {
    "colab": {
     "base_uri": "https://localhost:8080/"
    },
    "id": "oNFKta4rdM14",
    "outputId": "818cb515-1fe4-4ccc-9ae6-dd1d34a15445"
   },
   "outputs": [
    {
     "data": {
      "text/plain": [
       "0.7721991121719202"
      ]
     },
     "execution_count": 420,
     "metadata": {},
     "output_type": "execute_result"
    }
   ],
   "source": [
    "linear = LinearRegression()\n",
    "linear.fit(xx_train, yy_train)\n",
    "linear.score(xx_test, yy_test)"
   ]
  },
  {
   "cell_type": "markdown",
   "metadata": {
    "id": "rkcejW5zdM16"
   },
   "source": [
    "#### 5.2 Decision Tree"
   ]
  },
  {
   "cell_type": "code",
   "execution_count": 421,
   "metadata": {
    "colab": {
     "base_uri": "https://localhost:8080/"
    },
    "id": "rrsV9YTGdM16",
    "outputId": "dfda8878-a4d8-4cfb-9af3-d1cb848fd7ee"
   },
   "outputs": [
    {
     "data": {
      "text/plain": [
       "0.8666936834110818"
      ]
     },
     "execution_count": 421,
     "metadata": {},
     "output_type": "execute_result"
    }
   ],
   "source": [
    "decision = DecisionTreeRegressor(random_state = 0)  \n",
    "decision.fit(xx_train , yy_train) \n",
    "decision.score(xx_test, yy_test)"
   ]
  },
  {
   "cell_type": "markdown",
   "metadata": {
    "id": "KdJrUIRadM17"
   },
   "source": [
    "#### 5.3 Random Forest"
   ]
  },
  {
   "cell_type": "code",
   "execution_count": 422,
   "metadata": {
    "colab": {
     "base_uri": "https://localhost:8080/"
    },
    "id": "91iuwQ8AdM17",
    "outputId": "05694275-b827-45d9-d68e-9f5ad943a1ed"
   },
   "outputs": [
    {
     "data": {
      "text/plain": [
       "0.8682205305574237"
      ]
     },
     "execution_count": 422,
     "metadata": {},
     "output_type": "execute_result"
    }
   ],
   "source": [
    "random = RandomForestRegressor(n_estimators = 100, random_state = 0) \n",
    "random.fit(xx_train , yy_train)  \n",
    "random.score(xx_test, yy_test)"
   ]
  },
  {
   "cell_type": "markdown",
   "metadata": {},
   "source": [
    "#### 5.4 Gradient Boosting Regressor"
   ]
  },
  {
   "cell_type": "code",
   "execution_count": 423,
   "metadata": {},
   "outputs": [
    {
     "data": {
      "text/plain": [
       "GradientBoostingRegressor(max_depth=5, n_estimators=400)"
      ]
     },
     "execution_count": 423,
     "metadata": {},
     "output_type": "execute_result"
    }
   ],
   "source": [
    "from sklearn import ensemble\n",
    "clf = ensemble.GradientBoostingRegressor(n_estimators = 400, max_depth = 5)\n",
    "clf.fit(xx_train, yy_train)"
   ]
  },
  {
   "cell_type": "code",
   "execution_count": 424,
   "metadata": {},
   "outputs": [
    {
     "data": {
      "text/plain": [
       "0.869967891118741"
      ]
     },
     "execution_count": 424,
     "metadata": {},
     "output_type": "execute_result"
    }
   ],
   "source": [
    "clf.score(xx_test, yy_test)"
   ]
  },
  {
   "cell_type": "markdown",
   "metadata": {},
   "source": [
    "#### K fold Crossvalidation"
   ]
  },
  {
   "cell_type": "code",
   "execution_count": 425,
   "metadata": {},
   "outputs": [
    {
     "data": {
      "text/plain": [
       "array([0.77507173, 0.77427617, 0.77428639, 0.77414315, 0.76988332])"
      ]
     },
     "execution_count": 425,
     "metadata": {},
     "output_type": "execute_result"
    }
   ],
   "source": [
    "from sklearn.model_selection import ShuffleSplit\n",
    "from sklearn.model_selection import cross_val_score\n",
    "cv=ShuffleSplit(n_splits=5,test_size=0.2,random_state=0)\n",
    "cross_val_score(LinearRegression(),xx_test,yy_test,cv=cv)"
   ]
  },
  {
   "cell_type": "markdown",
   "metadata": {
    "id": "-AH2Uz7odM2F"
   },
   "source": [
    "## 6. Testing\n",
    "-----------------------------------------------------"
   ]
  },
  {
   "cell_type": "markdown",
   "metadata": {},
   "source": [
    "#### Linear regression"
   ]
  },
  {
   "cell_type": "code",
   "execution_count": 426,
   "metadata": {},
   "outputs": [
    {
     "data": {
      "text/plain": [
       "array([ 5.62086799e+00, -1.58719201e+00, -4.72020878e+00,  2.42842768e+01,\n",
       "       -3.25524240e-02, -1.70130346e-03])"
      ]
     },
     "execution_count": 426,
     "metadata": {},
     "output_type": "execute_result"
    }
   ],
   "source": [
    "linear.coef_"
   ]
  },
  {
   "cell_type": "code",
   "execution_count": 427,
   "metadata": {},
   "outputs": [
    {
     "data": {
      "text/plain": [
       "array([ 7.43934639, 13.69501444,  9.65626949, ..., 29.42753017,\n",
       "       29.4586131 , 13.71449341])"
      ]
     },
     "execution_count": 427,
     "metadata": {},
     "output_type": "execute_result"
    }
   ],
   "source": [
    "prediction = linear.predict(xx_test)\n",
    "prediction"
   ]
  },
  {
   "cell_type": "code",
   "execution_count": 429,
   "metadata": {},
   "outputs": [],
   "source": [
    "prediction=  prediction.astype(int)"
   ]
  },
  {
   "cell_type": "raw",
   "metadata": {},
   "source": [
    "plt.scatter(yy_test,prediction)\n",
    "plt.xlabel('Y Test')\n",
    "plt.ylabel('Predicted Y')"
   ]
  },
  {
   "cell_type": "code",
   "execution_count": 430,
   "metadata": {},
   "outputs": [
    {
     "name": "stdout",
     "output_type": "stream",
     "text": [
      "MAE :   3.18052006380771\n",
      "MSE :   17.90628629837848\n",
      "RMAE :   4.231582008939267\n"
     ]
    }
   ],
   "source": [
    "from sklearn import metrics\n",
    "print('MAE :',\" \", metrics.mean_absolute_error(yy_test,prediction))\n",
    "print('MSE :',\" \", metrics.mean_squared_error(yy_test,prediction))\n",
    "print('RMAE :',\" \", np.sqrt(metrics.mean_squared_error(yy_test,prediction)))"
   ]
  },
  {
   "cell_type": "code",
   "execution_count": 431,
   "metadata": {},
   "outputs": [
    {
     "name": "stderr",
     "output_type": "stream",
     "text": [
      "C:\\ProgramData\\Anaconda3\\lib\\site-packages\\seaborn\\distributions.py:2619: FutureWarning: `distplot` is a deprecated function and will be removed in a future version. Please adapt your code to use either `displot` (a figure-level function with similar flexibility) or `histplot` (an axes-level function for histograms).\n",
      "  warnings.warn(msg, FutureWarning)\n"
     ]
    },
    {
     "data": {
      "text/plain": [
       "<AxesSubplot:xlabel='price', ylabel='Density'>"
      ]
     },
     "execution_count": 431,
     "metadata": {},
     "output_type": "execute_result"
    },
    {
     "data": {
      "image/png": "[encoded data removed]",
      "text/plain": [
       "<Figure size 432x288 with 1 Axes>"
      ]
     },
     "metadata": {
      "needs_background": "light"
     },
     "output_type": "display_data"
    }
   ],
   "source": [
    "sns.distplot(yy_test - prediction,bins=50)"
   ]
  },
  {
   "cell_type": "markdown",
   "metadata": {
    "id": "U093z2lEdM18"
   },
   "source": [
    "#### Random Forest"
   ]
  },
  {
   "cell_type": "code",
   "execution_count": 432,
   "metadata": {},
   "outputs": [],
   "source": [
    "predictions = random.predict(xx_test)"
   ]
  },
  {
   "cell_type": "code",
   "execution_count": 433,
   "metadata": {},
   "outputs": [
    {
     "name": "stderr",
     "output_type": "stream",
     "text": [
      "C:\\ProgramData\\Anaconda3\\lib\\site-packages\\seaborn\\_decorators.py:36: FutureWarning: Pass the following variables as keyword args: x, y. From version 0.12, the only valid positional argument will be `data`, and passing other arguments without an explicit keyword will result in an error or misinterpretation.\n",
      "  warnings.warn(\n"
     ]
    },
    {
     "data": {
      "text/plain": [
       "Text(0, 0.5, 'Predicted Y')"
      ]
     },
     "execution_count": 433,
     "metadata": {},
     "output_type": "execute_result"
    },
    {
     "data": {
      "image/png": "[encoded data removed]",
      "text/plain": [
       "<Figure size 432x288 with 1 Axes>"
      ]
     },
     "metadata": {
      "needs_background": "light"
     },
     "output_type": "display_data"
    }
   ],
   "source": [
    "sns.regplot(yy_test,predictions)\n",
    "plt.xlabel('Y Test')\n",
    "plt.ylabel('Predicted Y')"
   ]
  },
  {
   "cell_type": "code",
   "execution_count": 434,
   "metadata": {},
   "outputs": [
    {
     "name": "stdout",
     "output_type": "stream",
     "text": [
      "MAE :   2.1196291898257216\n",
      "MSE :   10.284640483186823\n",
      "RMAE :   3.2069674901979943\n"
     ]
    }
   ],
   "source": [
    "from sklearn import metrics\n",
    "print('MAE :',\" \", metrics.mean_absolute_error(yy_test,predictions))\n",
    "print('MSE :',\" \", metrics.mean_squared_error(yy_test,predictions))\n",
    "print('RMAE :',\" \", np.sqrt(metrics.mean_squared_error(yy_test,predictions)))"
   ]
  },
  {
   "cell_type": "code",
   "execution_count": 435,
   "metadata": {},
   "outputs": [
    {
     "name": "stderr",
     "output_type": "stream",
     "text": [
      "C:\\ProgramData\\Anaconda3\\lib\\site-packages\\seaborn\\distributions.py:2619: FutureWarning: `distplot` is a deprecated function and will be removed in a future version. Please adapt your code to use either `displot` (a figure-level function with similar flexibility) or `histplot` (an axes-level function for histograms).\n",
      "  warnings.warn(msg, FutureWarning)\n"
     ]
    },
    {
     "data": {
      "text/plain": [
       "<AxesSubplot:xlabel='price', ylabel='Density'>"
      ]
     },
     "execution_count": 435,
     "metadata": {},
     "output_type": "execute_result"
    },
    {
     "data": {
      "image/png": "[encoded data removed]",
      "text/plain": [
       "<Figure size 432x288 with 1 Axes>"
      ]
     },
     "metadata": {
      "needs_background": "light"
     },
     "output_type": "display_data"
    }
   ],
   "source": [
    "sns.distplot(yy_test - predictions,bins=50)"
   ]
  },
  {
   "cell_type": "markdown",
   "metadata": {},
   "source": [
    "#### Price prediction function"
   ]
  },
  {
   "cell_type": "code",
   "execution_count": 436,
   "metadata": {},
   "outputs": [
    {
     "data": {
      "text/html": [
       "<div>\n",
       "<style scoped>\n",
       "    .dataframe tbody tr th:only-of-type {\n",
       "        vertical-align: middle;\n",
       "    }\n",
       "\n",
       "    .dataframe tbody tr th {\n",
       "        vertical-align: top;\n",
       "    }\n",
       "\n",
       "    .dataframe thead th {\n",
       "        text-align: right;\n",
       "    }\n",
       "</style>\n",
       "<table border=\"1\" class=\"dataframe\">\n",
       "  <thead>\n",
       "    <tr style=\"text-align: right;\">\n",
       "      <th></th>\n",
       "      <th>cab_type</th>\n",
       "      <th>product_id</th>\n",
       "      <th>name</th>\n",
       "      <th>surge_multiplier</th>\n",
       "      <th>humidity</th>\n",
       "      <th>apparentTemperatureMax</th>\n",
       "    </tr>\n",
       "  </thead>\n",
       "  <tbody>\n",
       "    <tr>\n",
       "      <th>0</th>\n",
       "      <td>0</td>\n",
       "      <td>4</td>\n",
       "      <td>2</td>\n",
       "      <td>1.0</td>\n",
       "      <td>0.68</td>\n",
       "      <td>38.07</td>\n",
       "    </tr>\n",
       "    <tr>\n",
       "      <th>1</th>\n",
       "      <td>0</td>\n",
       "      <td>5</td>\n",
       "      <td>1</td>\n",
       "      <td>1.0</td>\n",
       "      <td>0.94</td>\n",
       "      <td>43.92</td>\n",
       "    </tr>\n",
       "    <tr>\n",
       "      <th>2</th>\n",
       "      <td>0</td>\n",
       "      <td>4</td>\n",
       "      <td>2</td>\n",
       "      <td>1.0</td>\n",
       "      <td>0.96</td>\n",
       "      <td>56.35</td>\n",
       "    </tr>\n",
       "    <tr>\n",
       "      <th>3</th>\n",
       "      <td>0</td>\n",
       "      <td>5</td>\n",
       "      <td>1</td>\n",
       "      <td>1.0</td>\n",
       "      <td>0.62</td>\n",
       "      <td>40.48</td>\n",
       "    </tr>\n",
       "    <tr>\n",
       "      <th>4</th>\n",
       "      <td>1</td>\n",
       "      <td>0</td>\n",
       "      <td>5</td>\n",
       "      <td>1.0</td>\n",
       "      <td>0.56</td>\n",
       "      <td>32.85</td>\n",
       "    </tr>\n",
       "  </tbody>\n",
       "</table>\n",
       "</div>"
      ],
      "text/plain": [
       "   cab_type  product_id  name  surge_multiplier  humidity  \\\n",
       "0         0           4     2               1.0      0.68   \n",
       "1         0           5     1               1.0      0.94   \n",
       "2         0           4     2               1.0      0.96   \n",
       "3         0           5     1               1.0      0.62   \n",
       "4         1           0     5               1.0      0.56   \n",
       "\n",
       "   apparentTemperatureMax  \n",
       "0                   38.07  \n",
       "1                   43.92  \n",
       "2                   56.35  \n",
       "3                   40.48  \n",
       "4                   32.85  "
      ]
     },
     "execution_count": 436,
     "metadata": {},
     "output_type": "execute_result"
    }
   ],
   "source": [
    "new_uber.head()"
   ]
  },
  {
   "cell_type": "code",
   "execution_count": 437,
   "metadata": {},
   "outputs": [],
   "source": [
    "def predict_price(name,source,surge_multiplier,icon):    \n",
    "    loc_index = np.where(new_uber.columns==name)[0]\n",
    "\n",
    "    x = np.zeros(len(new_uber.columns))\n",
    "    x[0] = source\n",
    "    x[1] = surge_multiplier\n",
    "    x[2] = icon\n",
    "    if loc_index >= 0:\n",
    "        x[loc_index] = 1\n",
    "\n",
    "    return random.predict([x])[0]"
   ]
  },
  {
   "cell_type": "code",
   "execution_count": 438,
   "metadata": {
    "id": "oCT_frHKdM2F"
   },
   "outputs": [],
   "source": [
    "pre= random.predict(xx_test)"
   ]
  },
  {
   "cell_type": "markdown",
   "metadata": {},
   "source": [
    "####  <span style='background:yellow'>Follow  these instructions before predicting the price:</span> \n",
    "<hr>\n",
    "\n",
    "-  **For cab_name**:  <font color = 'red'>Black SUV --> 0 , Lux --> 1 , Shared --> 2 , Taxi --> 3 , UberPool --> 4 , UberX --> 5</font>\n",
    "\n",
    "\n",
    "- **For Source**:  <font color = 'blue'>Back Bay --> 0 , Beacon Hill --> 1 , Boston University --> 2 , Fenway --> 3 , Financial District --> 4 , Haymarket Square --> 5 , North End --> 6 , North Station --> 7 , Northeastern University --> 8 , South Station --> 9 , Theatre District --> 10 , West End --> 11</font>\n",
    "\n",
    "\n",
    "- **For Surge_multiplier** : <font color = 'red'>Enter Surge Multiplier value from 0 to 4</font>\n",
    "\n",
    "\n",
    "- **for Icon**:  <font color = 'blue'>clear-day  --> 0 , clear-night  --> 1 , cloudy  --> 2 , fog  --> 3 , partly-cloudy-day  --> 4 , partly-cloudy-night  --> 5 , rain  --> 6</font>\n"
   ]
  },
  {
   "cell_type": "markdown",
   "metadata": {},
   "source": [
    "<span style='background:yellow'>**predict_price(cab_name , source , surge_multiplier , icon)**</span>"
   ]
  },
  {
   "cell_type": "code",
   "execution_count": 439,
   "metadata": {},
   "outputs": [
    {
     "name": "stderr",
     "output_type": "stream",
     "text": [
      "C:\\Users\\HP\\AppData\\Local\\Temp/ipykernel_7640/3659057063.py:8: DeprecationWarning: The truth value of an empty array is ambiguous. Returning False, but in future this will result in an error. Use `array.size > 0` to check that an array is not empty.\n",
      "  if loc_index >= 0:\n",
      "C:\\ProgramData\\Anaconda3\\lib\\site-packages\\sklearn\\base.py:450: UserWarning: X does not have valid feature names, but RandomForestRegressor was fitted with feature names\n",
      "  warnings.warn(\n"
     ]
    },
    {
     "data": {
      "text/plain": [
       "30.023314848122986"
      ]
     },
     "execution_count": 439,
     "metadata": {},
     "output_type": "execute_result"
    }
   ],
   "source": [
    "predict_price(1 , 3, 2, 0)"
   ]
  },
  {
   "cell_type": "code",
   "execution_count": null,
   "metadata": {},
   "outputs": [],
   "source": []
  }
 ],
 "metadata": {
  "colab": {
   "collapsed_sections": [
    "qi1G0xr8dM1Y",
    "JXZS2rP2dM1b",
    "p17aW6tHdM1c",
    "r5gtEk3WdM1n",
    "Mh22ZUP-dM1q",
    "Nrg22on_qgPa",
    "pHzg3qKjdM1u",
    "x_pzLDEQdM1w"
   ],
   "name": "new uber.ipynb",
   "provenance": []
  },
  "kernelspec": {
   "display_name": "Python 3 (ipykernel)",
   "language": "python",
   "name": "python3"
  },
  "language_info": {
   "codemirror_mode": {
    "name": "ipython",
    "version": 3
   },
   "file_extension": ".py",
   "mimetype": "text/x-python",
   "name": "python",
   "nbconvert_exporter": "python",
   "pygments_lexer": "ipython3",
   "version": "3.9.12"
  }
 },
 "nbformat": 4,
 "nbformat_minor": 1
}
